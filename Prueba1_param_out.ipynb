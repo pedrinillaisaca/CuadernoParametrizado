{
 "cells": [
  {
   "cell_type": "markdown",
   "id": "selected-exclusion",
   "metadata": {
    "id": "rJfMML60zaoX",
    "papermill": {
     "duration": 0.048978,
     "end_time": "2021-12-06T04:12:09.101855",
     "exception": false,
     "start_time": "2021-12-06T04:12:09.052877",
     "status": "completed"
    },
    "tags": []
   },
   "source": [
    "\n",
    "##**Prueba Simulación**\n",
    "---\n",
    "##**Estudiante:** Pedro Illaisaca\n",
    "---\n",
    "##**Carrera:** Computación\n"
   ]
  },
  {
   "cell_type": "markdown",
   "id": "cathedral-shaft",
   "metadata": {
    "id": "kJWpqKWdB3uj",
    "papermill": {
     "duration": 0.03298,
     "end_time": "2021-12-06T04:12:09.167814",
     "exception": false,
     "start_time": "2021-12-06T04:12:09.134834",
     "status": "completed"
    },
    "tags": []
   },
   "source": [
    "##Importamos las librerías para el procesado de datos##"
   ]
  },
  {
   "cell_type": "code",
   "execution_count": 1,
   "id": "future-baker",
   "metadata": {
    "execution": {
     "iopub.execute_input": "2021-12-06T04:12:09.238769Z",
     "iopub.status.busy": "2021-12-06T04:12:09.237768Z",
     "iopub.status.idle": "2021-12-06T04:12:10.681312Z",
     "shell.execute_reply": "2021-12-06T04:12:10.680313Z"
    },
    "id": "2J4GO53azxdU",
    "papermill": {
     "duration": 1.480519,
     "end_time": "2021-12-06T04:12:10.681312",
     "exception": false,
     "start_time": "2021-12-06T04:12:09.200793",
     "status": "completed"
    },
    "tags": []
   },
   "outputs": [],
   "source": [
    "# importar las librerias necesarias\n",
    "import matplotlib.pyplot as plt\n",
    "import numpy as np\n",
    "import pandas as pd\n"
   ]
  },
  {
   "cell_type": "markdown",
   "id": "advised-hebrew",
   "metadata": {
    "id": "Y4VWb3GgCb68",
    "papermill": {
     "duration": 0.032979,
     "end_time": "2021-12-06T04:12:10.748272",
     "exception": false,
     "start_time": "2021-12-06T04:12:10.715293",
     "status": "completed"
    },
    "tags": []
   },
   "source": [
    "##Importamos las librerías para presentar las gráficas"
   ]
  },
  {
   "cell_type": "markdown",
   "id": "certain-emperor",
   "metadata": {
    "id": "n6e8troLC4rQ",
    "papermill": {
     "duration": 0.032979,
     "end_time": "2021-12-06T04:12:10.814230",
     "exception": false,
     "start_time": "2021-12-06T04:12:10.781251",
     "status": "completed"
    },
    "tags": []
   },
   "source": [
    "##Cargamos el dataset de Población\n",
    "En este conjunto de datos encontramos las cifras de desempleo y empleo en el Ecuador desde el año 2007 hasta el presente 2021\n"
   ]
  },
  {
   "cell_type": "code",
   "execution_count": 2,
   "id": "eligible-province",
   "metadata": {
    "colab": {
     "base_uri": "https://localhost:8080/"
    },
    "execution": {
     "iopub.execute_input": "2021-12-06T04:12:10.885187Z",
     "iopub.status.busy": "2021-12-06T04:12:10.884187Z",
     "iopub.status.idle": "2021-12-06T04:12:10.918284Z",
     "shell.execute_reply": "2021-12-06T04:12:10.919283Z"
    },
    "id": "2tRp3j2pz6zN",
    "outputId": "13c4673c-8059-4c75-96b9-4c17ef9f499c",
    "papermill": {
     "duration": 0.072073,
     "end_time": "2021-12-06T04:12:10.919283",
     "exception": false,
     "start_time": "2021-12-06T04:12:10.847210",
     "status": "completed"
    },
    "tags": []
   },
   "outputs": [
    {
     "name": "stdout",
     "output_type": "stream",
     "text": [
      "    Unnamed: 0  Unnamed: 1                           Unnamed: 2     Total  \\\n",
      "0       ENEMDU  12/01/2007                      Población Total  13682302   \n",
      "1       ENEMDU  12/01/2007           Población menor de 15 años   4372812   \n",
      "2       ENEMDU  12/01/2007  Población en Edad de Trabajar (PET)   9309490   \n",
      "3       ENEMDU  12/01/2007      Población Económicamente Activa   6336029   \n",
      "4       ENEMDU  12/01/2007                               Empleo   6019332   \n",
      "..         ...         ...                                  ...       ...   \n",
      "895    ENEMDU*  10/01/2021                    Desempleo Abierto    336101   \n",
      "896    ENEMDU*  10/01/2021                     Desempleo Oculto     48103   \n",
      "897    ENEMDU*  10/01/2021                    Desempleo Cesante    298846   \n",
      "898    ENEMDU*  10/01/2021                      Desempleo Nuevo     85358   \n",
      "899    ENEMDU*  10/01/2021    Población Económicamente Inactiva   4330241   \n",
      "\n",
      "      Urbana    Rural   Hombre    Mujer  \n",
      "0    9066209  4616093  6768646  6913656  \n",
      "1    2723124  1649688  2226618  2146194  \n",
      "2    6343085  2966404  4542028  4767462  \n",
      "3    4227702  2108328  3777232  2558798  \n",
      "4    3971040  2048292  3632314  2387018  \n",
      "..       ...      ...      ...      ...  \n",
      "895   291606    44495   150276   185824  \n",
      "896    27600    20503    25975    22128  \n",
      "897   257856    40991   140223   158623  \n",
      "898    61351    24007    36028    49330  \n",
      "899  3307420  1022821  1324745  3005495  \n",
      "\n",
      "[900 rows x 8 columns]\n"
     ]
    }
   ],
   "source": [
    "#Trabajar con otro tipo de datos Fifa\n",
    "#Previamente ralizar la conexion con drive!!!!11\n",
    "pob = pd.read_csv(\"D:/UPS_DECIMO/SIMULACION/1.PoblacionesPedro.csv\",skiprows=2, low_memory=False,encoding= 'latin1')\n",
    "#imprimir los primeros 5 datos del archivo\n",
    "#pob.head()\n",
    "print(pob)"
   ]
  },
  {
   "cell_type": "markdown",
   "id": "allied-great",
   "metadata": {
    "id": "QmmbVrFMC773",
    "papermill": {
     "duration": 0.032979,
     "end_time": "2021-12-06T04:12:10.998233",
     "exception": false,
     "start_time": "2021-12-06T04:12:10.965254",
     "status": "completed"
    },
    "tags": []
   },
   "source": [
    "##FIltración de datos\n",
    "Al analizar los datos podemos darnos cuenta que existe una columna con el total de la población empleo y desempleo, de modo que porcedos a filtrar las filas que contienen esa etiqueta\n"
   ]
  },
  {
   "cell_type": "code",
   "execution_count": 3,
   "id": "french-tobacco",
   "metadata": {
    "execution": {
     "iopub.execute_input": "2021-12-06T04:12:11.071187Z",
     "iopub.status.busy": "2021-12-06T04:12:11.070187Z",
     "iopub.status.idle": "2021-12-06T04:12:11.086224Z",
     "shell.execute_reply": "2021-12-06T04:12:11.086224Z"
    },
    "id": "pmNLNUWnRNgD",
    "papermill": {
     "duration": 0.05601,
     "end_time": "2021-12-06T04:12:11.087223",
     "exception": false,
     "start_time": "2021-12-06T04:12:11.031213",
     "status": "completed"
    },
    "tags": []
   },
   "outputs": [],
   "source": [
    "empleo=pob.loc[ (pob['Unnamed: 2']) == 'Empleo']\n",
    "desempleo=pob.loc[ (pob['Unnamed: 2']) == 'Desempleo']#(pob['Unnamed: 2'] == 'Empleo')\n",
    "#newData.head()\n",
    "#empleo.head()\n"
   ]
  },
  {
   "cell_type": "markdown",
   "id": "cheap-helping",
   "metadata": {
    "id": "0P6TZButD3h7",
    "papermill": {
     "duration": 0.033979,
     "end_time": "2021-12-06T04:12:11.154183",
     "exception": false,
     "start_time": "2021-12-06T04:12:11.120204",
     "status": "completed"
    },
    "tags": []
   },
   "source": [
    "##Funciones\n",
    "Para una mejor optimizacion del Codigo vamos a realizar una función que extrae solamente el año y lo adiciona en una nueva columna del dataframe\n"
   ]
  },
  {
   "cell_type": "code",
   "execution_count": 4,
   "id": "copyrighted-brunei",
   "metadata": {
    "colab": {
     "base_uri": "https://localhost:8080/",
     "height": 484
    },
    "execution": {
     "iopub.execute_input": "2021-12-06T04:12:11.233131Z",
     "iopub.status.busy": "2021-12-06T04:12:11.232133Z",
     "iopub.status.idle": "2021-12-06T04:12:11.260714Z",
     "shell.execute_reply": "2021-12-06T04:12:11.259713Z"
    },
    "id": "D3s6B3F5ioip",
    "outputId": "9f0f3b2d-f1b8-4c8e-b4e2-7264306c9a25",
    "papermill": {
     "duration": 0.070554,
     "end_time": "2021-12-06T04:12:11.260714",
     "exception": false,
     "start_time": "2021-12-06T04:12:11.190160",
     "status": "completed"
    },
    "tags": []
   },
   "outputs": [
    {
     "name": "stderr",
     "output_type": "stream",
     "text": [
      "<ipython-input-4-2a9d3d56c681>:4: SettingWithCopyWarning: \n",
      "A value is trying to be set on a copy of a slice from a DataFrame.\n",
      "Try using .loc[row_indexer,col_indexer] = value instead\n",
      "\n",
      "See the caveats in the documentation: https://pandas.pydata.org/pandas-docs/stable/user_guide/indexing.html#returning-a-view-versus-a-copy\n",
      "  empleo[\"Anios\"]=empleo.apply(lambda x: extractYear(x[1]), axis=1)\n",
      "<ipython-input-4-2a9d3d56c681>:5: SettingWithCopyWarning: \n",
      "A value is trying to be set on a copy of a slice from a DataFrame.\n",
      "Try using .loc[row_indexer,col_indexer] = value instead\n",
      "\n",
      "See the caveats in the documentation: https://pandas.pydata.org/pandas-docs/stable/user_guide/indexing.html#returning-a-view-versus-a-copy\n",
      "  desempleo[\"Anios\"]=desempleo.apply(lambda x: extractYear(x[1]), axis=1)\n"
     ]
    },
    {
     "data": {
      "text/html": [
       "<div>\n",
       "<style scoped>\n",
       "    .dataframe tbody tr th:only-of-type {\n",
       "        vertical-align: middle;\n",
       "    }\n",
       "\n",
       "    .dataframe tbody tr th {\n",
       "        vertical-align: top;\n",
       "    }\n",
       "\n",
       "    .dataframe thead th {\n",
       "        text-align: right;\n",
       "    }\n",
       "</style>\n",
       "<table border=\"1\" class=\"dataframe\">\n",
       "  <thead>\n",
       "    <tr style=\"text-align: right;\">\n",
       "      <th></th>\n",
       "      <th>Unnamed: 0</th>\n",
       "      <th>Unnamed: 1</th>\n",
       "      <th>Unnamed: 2</th>\n",
       "      <th>Total</th>\n",
       "      <th>Urbana</th>\n",
       "      <th>Rural</th>\n",
       "      <th>Hombre</th>\n",
       "      <th>Mujer</th>\n",
       "      <th>Anios</th>\n",
       "    </tr>\n",
       "  </thead>\n",
       "  <tbody>\n",
       "    <tr>\n",
       "      <th>12</th>\n",
       "      <td>ENEMDU</td>\n",
       "      <td>12/01/2007</td>\n",
       "      <td>Desempleo</td>\n",
       "      <td>316697</td>\n",
       "      <td>256662</td>\n",
       "      <td>60036</td>\n",
       "      <td>144918</td>\n",
       "      <td>171780</td>\n",
       "      <td>2007</td>\n",
       "    </tr>\n",
       "    <tr>\n",
       "      <th>30</th>\n",
       "      <td>ENEMDU</td>\n",
       "      <td>06/01/2008</td>\n",
       "      <td>Desempleo</td>\n",
       "      <td>344143</td>\n",
       "      <td>282489</td>\n",
       "      <td>61654</td>\n",
       "      <td>151283</td>\n",
       "      <td>192860</td>\n",
       "      <td>2008</td>\n",
       "    </tr>\n",
       "    <tr>\n",
       "      <th>48</th>\n",
       "      <td>ENEMDU</td>\n",
       "      <td>12/01/2008</td>\n",
       "      <td>Desempleo</td>\n",
       "      <td>380026</td>\n",
       "      <td>317011</td>\n",
       "      <td>63015</td>\n",
       "      <td>165296</td>\n",
       "      <td>214730</td>\n",
       "      <td>2008</td>\n",
       "    </tr>\n",
       "    <tr>\n",
       "      <th>66</th>\n",
       "      <td>ENEMDU</td>\n",
       "      <td>12/01/2009</td>\n",
       "      <td>Desempleo</td>\n",
       "      <td>423802</td>\n",
       "      <td>347068</td>\n",
       "      <td>76734</td>\n",
       "      <td>201625</td>\n",
       "      <td>222177</td>\n",
       "      <td>2009</td>\n",
       "    </tr>\n",
       "    <tr>\n",
       "      <th>84</th>\n",
       "      <td>ENEMDU</td>\n",
       "      <td>06/01/2010</td>\n",
       "      <td>Desempleo</td>\n",
       "      <td>408318</td>\n",
       "      <td>338652</td>\n",
       "      <td>69666</td>\n",
       "      <td>194691</td>\n",
       "      <td>213628</td>\n",
       "      <td>2010</td>\n",
       "    </tr>\n",
       "  </tbody>\n",
       "</table>\n",
       "</div>"
      ],
      "text/plain": [
       "   Unnamed: 0  Unnamed: 1 Unnamed: 2   Total  Urbana  Rural  Hombre   Mujer  \\\n",
       "12     ENEMDU  12/01/2007  Desempleo  316697  256662  60036  144918  171780   \n",
       "30     ENEMDU  06/01/2008  Desempleo  344143  282489  61654  151283  192860   \n",
       "48     ENEMDU  12/01/2008  Desempleo  380026  317011  63015  165296  214730   \n",
       "66     ENEMDU  12/01/2009  Desempleo  423802  347068  76734  201625  222177   \n",
       "84     ENEMDU  06/01/2010  Desempleo  408318  338652  69666  194691  213628   \n",
       "\n",
       "   Anios  \n",
       "12  2007  \n",
       "30  2008  \n",
       "48  2008  \n",
       "66  2009  \n",
       "84  2010  "
      ]
     },
     "execution_count": 4,
     "metadata": {},
     "output_type": "execute_result"
    }
   ],
   "source": [
    "def extractYear(anio):\n",
    "  return str(anio).split(\"/\")[2]\n",
    "\n",
    "empleo[\"Anios\"]=empleo.apply(lambda x: extractYear(x[1]), axis=1)\n",
    "desempleo[\"Anios\"]=desempleo.apply(lambda x: extractYear(x[1]), axis=1)\n",
    "\n",
    "desempleo.head()\n"
   ]
  },
  {
   "cell_type": "markdown",
   "id": "legal-government",
   "metadata": {
    "id": "ax8DlqNoD-Kb",
    "papermill": {
     "duration": 0.033978,
     "end_time": "2021-12-06T04:12:11.348661",
     "exception": false,
     "start_time": "2021-12-06T04:12:11.314683",
     "status": "completed"
    },
    "tags": []
   },
   "source": [
    "Procedemos a extraer los años en donde se registraron estas cifras"
   ]
  },
  {
   "cell_type": "code",
   "execution_count": 5,
   "id": "periodic-greene",
   "metadata": {
    "colab": {
     "base_uri": "https://localhost:8080/"
    },
    "execution": {
     "iopub.execute_input": "2021-12-06T04:12:11.422613Z",
     "iopub.status.busy": "2021-12-06T04:12:11.422613Z",
     "iopub.status.idle": "2021-12-06T04:12:11.425612Z",
     "shell.execute_reply": "2021-12-06T04:12:11.425612Z"
    },
    "id": "VZbSgw5zJYuN",
    "outputId": "09f17f2b-c4b2-4657-9222-23d91cd62c58",
    "papermill": {
     "duration": 0.042973,
     "end_time": "2021-12-06T04:12:11.425612",
     "exception": false,
     "start_time": "2021-12-06T04:12:11.382639",
     "status": "completed"
    },
    "tags": []
   },
   "outputs": [
    {
     "name": "stdout",
     "output_type": "stream",
     "text": [
      "['2007' '2008' '2009' '2010' '2011' '2012' '2013' '2014' '2015' '2016'\n",
      " '2017' '2018' '2019' '2020' '2021']\n"
     ]
    }
   ],
   "source": [
    "colum_anios_empleo=empleo.iloc[:,-1]\n",
    "colum_anios_empleo=colum_anios_empleo.unique()\n",
    "print(colum_anios_empleo)"
   ]
  },
  {
   "cell_type": "markdown",
   "id": "hungry-confirmation",
   "metadata": {
    "id": "ZGLHIkqUEOhz",
    "papermill": {
     "duration": 0.03498,
     "end_time": "2021-12-06T04:12:11.497568",
     "exception": false,
     "start_time": "2021-12-06T04:12:11.462588",
     "status": "completed"
    },
    "tags": []
   },
   "source": [
    "##Funcion\n",
    "Programamos una función que nos permite hacer  una búsqueda en los registros del dataset y posteriormente sería llamada desde una función lambda"
   ]
  },
  {
   "cell_type": "code",
   "execution_count": 6,
   "id": "median-parish",
   "metadata": {
    "execution": {
     "iopub.execute_input": "2021-12-06T04:12:11.571521Z",
     "iopub.status.busy": "2021-12-06T04:12:11.570521Z",
     "iopub.status.idle": "2021-12-06T04:12:11.573520Z",
     "shell.execute_reply": "2021-12-06T04:12:11.573520Z"
    },
    "id": "qiXCRgdEUO5i",
    "papermill": {
     "duration": 0.040974,
     "end_time": "2021-12-06T04:12:11.573520",
     "exception": false,
     "start_time": "2021-12-06T04:12:11.532546",
     "status": "completed"
    },
    "tags": []
   },
   "outputs": [],
   "source": [
    "\n",
    "def search_value_desemp(param,key,val):\n",
    "  if param==key:\n",
    "    return val    "
   ]
  },
  {
   "cell_type": "markdown",
   "id": "stock-simulation",
   "metadata": {
    "id": "v9MV1wbjEpiC",
    "papermill": {
     "duration": 0.035979,
     "end_time": "2021-12-06T04:12:11.645476",
     "exception": false,
     "start_time": "2021-12-06T04:12:11.609497",
     "status": "completed"
    },
    "tags": []
   },
   "source": [
    "##Búsqueda\n",
    "Procedemos ha realizar la búsqueda en función de todos los años, tanto en el dataframe de empleo y del de desempleo de paso procedemos a realizar un promedio en base a los datos porque existen cifras por cada mes reduciendo la información a intervalos por año\n"
   ]
  },
  {
   "cell_type": "code",
   "execution_count": 7,
   "id": "acoustic-antibody",
   "metadata": {
    "colab": {
     "base_uri": "https://localhost:8080/"
    },
    "execution": {
     "iopub.execute_input": "2021-12-06T04:12:11.772396Z",
     "iopub.status.busy": "2021-12-06T04:12:11.772396Z",
     "iopub.status.idle": "2021-12-06T04:12:11.777492Z",
     "shell.execute_reply": "2021-12-06T04:12:11.776492Z"
    },
    "id": "TGPjppHaQM9v",
    "outputId": "d6dc4110-a0bd-443c-dcf2-0f804884d208",
    "papermill": {
     "duration": 0.097029,
     "end_time": "2021-12-06T04:12:11.777492",
     "exception": false,
     "start_time": "2021-12-06T04:12:11.680463",
     "status": "completed"
    },
    "tags": []
   },
   "outputs": [
    {
     "name": "stdout",
     "output_type": "stream",
     "text": [
      "{'2007': 6019332.0, '2008': 6125310.0, '2009': 6125135.0, '2010': 6143685.5, '2011': 6264709.0, '2012': 6506555.5, '2013': 6695018.0, '2014': 6784413.75, '2015': 7151139.25, '2016': 7482333.75, '2017': 7766294.0, '2018': 7778951.0, '2019': 7853174.75, '2020': 7673343.25, '2021': 7917790.1}\n",
      "{'2007': 316697.0, '2008': 362084.5, '2009': 423802.0, '2010': 365672.5, '2011': 302996.0, '2012': 279372.5, '2013': 281348.0, '2014': 304555.0, '2015': 324618.0, '2016': 423871.75, '2017': 358466.5, '2018': 330265.75, '2019': 365105.75, '2020': 456457.5, '2021': 431402.7}\n"
     ]
    }
   ],
   "source": [
    "##Creacion de diccionarios y busqueda de datos\n",
    "list_vals_emp_anio=[]\n",
    "list_vals_desemp_anio=[]\n",
    "dic_empleo={}\n",
    "dic_desempleo={}\n",
    "\n",
    "for i in colum_anios_empleo:\n",
    "  dfT=empleo.apply(lambda x:search_value_desemp(i,x[8],x[3]),axis=1)\n",
    "  dfT=dfT.dropna()\n",
    "  dic_empleo.setdefault(i,dfT.mean())\n",
    "\n",
    "for i in colum_anios_empleo:\n",
    "  dfT=desempleo.apply(lambda x:search_value_desemp(i,x[8],x[3]),axis=1)\n",
    "  dfT=dfT.dropna()\n",
    "  dic_desempleo.setdefault(i,dfT.mean())\n",
    "\n",
    "print(dic_empleo)  \n",
    "print(dic_desempleo)  \n"
   ]
  },
  {
   "cell_type": "markdown",
   "id": "tested-recording",
   "metadata": {
    "id": "3KjsOniCFY9u",
    "papermill": {
     "duration": 0.035982,
     "end_time": "2021-12-06T04:12:11.853194",
     "exception": false,
     "start_time": "2021-12-06T04:12:11.817212",
     "status": "completed"
    },
    "tags": []
   },
   "source": [
    "##Dataframe final \n",
    "Como en la sección anterior se obtuvieron diccionarios que contenían los años y los valores por cada año ahora simplemente los juntamos en un solo dataset.\n"
   ]
  },
  {
   "cell_type": "code",
   "execution_count": 8,
   "id": "improving-reason",
   "metadata": {
    "colab": {
     "base_uri": "https://localhost:8080/",
     "height": 206
    },
    "execution": {
     "iopub.execute_input": "2021-12-06T04:12:11.941139Z",
     "iopub.status.busy": "2021-12-06T04:12:11.940141Z",
     "iopub.status.idle": "2021-12-06T04:12:11.948376Z",
     "shell.execute_reply": "2021-12-06T04:12:11.948376Z"
    },
    "id": "GPJc0I5G1AMt",
    "outputId": "fbb1d815-93a4-4a0a-fa5f-8edbbada0624",
    "papermill": {
     "duration": 0.058204,
     "end_time": "2021-12-06T04:12:11.949375",
     "exception": false,
     "start_time": "2021-12-06T04:12:11.891171",
     "status": "completed"
    },
    "tags": []
   },
   "outputs": [
    {
     "data": {
      "text/html": [
       "<div>\n",
       "<style scoped>\n",
       "    .dataframe tbody tr th:only-of-type {\n",
       "        vertical-align: middle;\n",
       "    }\n",
       "\n",
       "    .dataframe tbody tr th {\n",
       "        vertical-align: top;\n",
       "    }\n",
       "\n",
       "    .dataframe thead th {\n",
       "        text-align: right;\n",
       "    }\n",
       "</style>\n",
       "<table border=\"1\" class=\"dataframe\">\n",
       "  <thead>\n",
       "    <tr style=\"text-align: right;\">\n",
       "      <th></th>\n",
       "      <th>Años</th>\n",
       "      <th>Empleo</th>\n",
       "      <th>Desempleo</th>\n",
       "    </tr>\n",
       "  </thead>\n",
       "  <tbody>\n",
       "    <tr>\n",
       "      <th>0</th>\n",
       "      <td>2007</td>\n",
       "      <td>6019332.0</td>\n",
       "      <td>316697.0</td>\n",
       "    </tr>\n",
       "    <tr>\n",
       "      <th>1</th>\n",
       "      <td>2008</td>\n",
       "      <td>6125310.0</td>\n",
       "      <td>362084.5</td>\n",
       "    </tr>\n",
       "    <tr>\n",
       "      <th>2</th>\n",
       "      <td>2009</td>\n",
       "      <td>6125135.0</td>\n",
       "      <td>423802.0</td>\n",
       "    </tr>\n",
       "    <tr>\n",
       "      <th>3</th>\n",
       "      <td>2010</td>\n",
       "      <td>6143685.5</td>\n",
       "      <td>365672.5</td>\n",
       "    </tr>\n",
       "    <tr>\n",
       "      <th>4</th>\n",
       "      <td>2011</td>\n",
       "      <td>6264709.0</td>\n",
       "      <td>302996.0</td>\n",
       "    </tr>\n",
       "  </tbody>\n",
       "</table>\n",
       "</div>"
      ],
      "text/plain": [
       "   Años     Empleo  Desempleo\n",
       "0  2007  6019332.0   316697.0\n",
       "1  2008  6125310.0   362084.5\n",
       "2  2009  6125135.0   423802.0\n",
       "3  2010  6143685.5   365672.5\n",
       "4  2011  6264709.0   302996.0"
      ]
     },
     "execution_count": 8,
     "metadata": {},
     "output_type": "execute_result"
    }
   ],
   "source": [
    "empleo=pd.DataFrame(dic_empleo.items())\n",
    "empleo.columns=['Años','Empleo']\n",
    "\n",
    "desempleo=pd.DataFrame(dic_desempleo.items())\n",
    "desempleo.columns=['Años','Desempleo']\n",
    "\n",
    "empleo[\"Desempleo\"]=desempleo.iloc[:,-1]\n",
    "empleo.head()"
   ]
  },
  {
   "cell_type": "markdown",
   "id": "instrumental-teddy",
   "metadata": {
    "id": "aOIXK2iiF2zW",
    "papermill": {
     "duration": 0.035978,
     "end_time": "2021-12-06T04:12:12.022331",
     "exception": false,
     "start_time": "2021-12-06T04:12:11.986353",
     "status": "completed"
    },
    "tags": []
   },
   "source": [
    "##Graficamos los resultados del Desempleo"
   ]
  },
  {
   "cell_type": "code",
   "execution_count": 9,
   "id": "endangered-assist",
   "metadata": {
    "colab": {
     "base_uri": "https://localhost:8080/",
     "height": 290
    },
    "execution": {
     "iopub.execute_input": "2021-12-06T04:12:12.114274Z",
     "iopub.status.busy": "2021-12-06T04:12:12.113276Z",
     "iopub.status.idle": "2021-12-06T04:12:12.338896Z",
     "shell.execute_reply": "2021-12-06T04:12:12.338896Z"
    },
    "id": "6hWiKtiwNx1D",
    "outputId": "9022b1e2-1a63-4e12-8a6c-fefac490db4e",
    "papermill": {
     "duration": 0.281586,
     "end_time": "2021-12-06T04:12:12.339895",
     "exception": false,
     "start_time": "2021-12-06T04:12:12.058309",
     "status": "completed"
    },
    "tags": []
   },
   "outputs": [
    {
     "data": {
      "image/png": "[encoded data removed]",
      "text/plain": [
       "<Figure size 432x288 with 1 Axes>"
      ]
     },
     "metadata": {
      "needs_background": "light"
     },
     "output_type": "display_data"
    }
   ],
   "source": [
    "fig, ax = plt.subplots()\n",
    "empleo.plot(x = 'Años', y = 'Empleo', ax = ax)\n",
    "empleo.plot(x = 'Años', y = 'Desempleo', ax = ax)\n",
    "plt.show()"
   ]
  },
  {
   "cell_type": "markdown",
   "id": "ranking-momentum",
   "metadata": {
    "id": "dPuFhoQ1aLOj",
    "papermill": {
     "duration": 0.037974,
     "end_time": "2021-12-06T04:12:12.433835",
     "exception": false,
     "start_time": "2021-12-06T04:12:12.395861",
     "status": "completed"
    },
    "tags": []
   },
   "source": [
    "##Generar gráfica tipo PIE según la sectorización de empleo en función de años\n",
    "Procedemos a cargar el dataset y preprocesados haciendo un transpose a los datos para un mejor manejo para que se mapean los datos de mejor manera procedemos a guardarlos \n"
   ]
  },
  {
   "cell_type": "code",
   "execution_count": 10,
   "id": "announced-europe",
   "metadata": {
    "execution": {
     "iopub.execute_input": "2021-12-06T04:12:12.513785Z",
     "iopub.status.busy": "2021-12-06T04:12:12.512787Z",
     "iopub.status.idle": "2021-12-06T04:12:12.984753Z",
     "shell.execute_reply": "2021-12-06T04:12:12.983754Z"
    },
    "id": "fPK4maLS-5dg",
    "papermill": {
     "duration": 0.51594,
     "end_time": "2021-12-06T04:12:12.985753",
     "exception": false,
     "start_time": "2021-12-06T04:12:12.469813",
     "status": "completed"
    },
    "tags": []
   },
   "outputs": [],
   "source": [
    "#!ls drive/MyDrive/DataPrueba\n",
    "secto= pd.read_csv(\"D:/UPS_DECIMO/SIMULACION/Sectoriza.csv\",skiprows=0, low_memory=False,encoding= 'latin1')\n",
    "secto=secto.iloc[0:5]\n",
    "secto=secto.transpose()\n",
    "secto.columns=secto.iloc[1]\n",
    "secto=secto.iloc[2:]\n",
    "secto.head()\n",
    "secto.to_csv('D:/UPS_DECIMO/SIMULACION/asdk.csv',encoding= 'latin1')"
   ]
  },
  {
   "cell_type": "code",
   "execution_count": 11,
   "id": "wanted-tsunami",
   "metadata": {
    "colab": {
     "base_uri": "https://localhost:8080/",
     "height": 206
    },
    "execution": {
     "iopub.execute_input": "2021-12-06T04:12:13.080687Z",
     "iopub.status.busy": "2021-12-06T04:12:13.079686Z",
     "iopub.status.idle": "2021-12-06T04:12:13.104355Z",
     "shell.execute_reply": "2021-12-06T04:12:13.103354Z"
    },
    "id": "C4f4QhieQV8A",
    "outputId": "a0e834e9-566d-47af-cf70-48aba623c962",
    "papermill": {
     "duration": 0.066642,
     "end_time": "2021-12-06T04:12:13.104355",
     "exception": false,
     "start_time": "2021-12-06T04:12:13.037713",
     "status": "completed"
    },
    "tags": []
   },
   "outputs": [
    {
     "data": {
      "text/html": [
       "<div>\n",
       "<style scoped>\n",
       "    .dataframe tbody tr th:only-of-type {\n",
       "        vertical-align: middle;\n",
       "    }\n",
       "\n",
       "    .dataframe tbody tr th {\n",
       "        vertical-align: top;\n",
       "    }\n",
       "\n",
       "    .dataframe thead th {\n",
       "        text-align: right;\n",
       "    }\n",
       "</style>\n",
       "<table border=\"1\" class=\"dataframe\">\n",
       "  <thead>\n",
       "    <tr style=\"text-align: right;\">\n",
       "      <th></th>\n",
       "      <th>Unnamed: 0</th>\n",
       "      <th>Unnamed: 1</th>\n",
       "      <th>Sector Formal</th>\n",
       "      <th>Sector Informal</th>\n",
       "      <th>Empleo Doméstico</th>\n",
       "      <th>No Clasificados por Sector</th>\n",
       "    </tr>\n",
       "  </thead>\n",
       "  <tbody>\n",
       "    <tr>\n",
       "      <th>0</th>\n",
       "      <td>Unnamed: 2</td>\n",
       "      <td>06/01/2007</td>\n",
       "      <td>-</td>\n",
       "      <td>-</td>\n",
       "      <td>-</td>\n",
       "      <td>-</td>\n",
       "    </tr>\n",
       "    <tr>\n",
       "      <th>1</th>\n",
       "      <td>Unnamed: 3</td>\n",
       "      <td>09/01/2007</td>\n",
       "      <td>-</td>\n",
       "      <td>-</td>\n",
       "      <td>-</td>\n",
       "      <td>-</td>\n",
       "    </tr>\n",
       "    <tr>\n",
       "      <th>2</th>\n",
       "      <td>Unnamed: 4</td>\n",
       "      <td>12/01/2007</td>\n",
       "      <td>41%</td>\n",
       "      <td>45.1%</td>\n",
       "      <td>3.3%</td>\n",
       "      <td>10.6%</td>\n",
       "    </tr>\n",
       "    <tr>\n",
       "      <th>3</th>\n",
       "      <td>Unnamed: 5</td>\n",
       "      <td>03/01/2008</td>\n",
       "      <td>-</td>\n",
       "      <td>-</td>\n",
       "      <td>-</td>\n",
       "      <td>-</td>\n",
       "    </tr>\n",
       "    <tr>\n",
       "      <th>4</th>\n",
       "      <td>Unnamed: 6</td>\n",
       "      <td>06/01/2008</td>\n",
       "      <td>42.5%</td>\n",
       "      <td>45.4%</td>\n",
       "      <td>3.3%</td>\n",
       "      <td>8.8%</td>\n",
       "    </tr>\n",
       "  </tbody>\n",
       "</table>\n",
       "</div>"
      ],
      "text/plain": [
       "   Unnamed: 0  Unnamed: 1 Sector Formal Sector Informal Empleo Doméstico  \\\n",
       "0  Unnamed: 2  06/01/2007             -               -                -   \n",
       "1  Unnamed: 3  09/01/2007             -               -                -   \n",
       "2  Unnamed: 4  12/01/2007           41%           45.1%             3.3%   \n",
       "3  Unnamed: 5  03/01/2008             -               -                -   \n",
       "4  Unnamed: 6  06/01/2008         42.5%           45.4%             3.3%   \n",
       "\n",
       "  No Clasificados por Sector  \n",
       "0                          -  \n",
       "1                          -  \n",
       "2                      10.6%  \n",
       "3                          -  \n",
       "4                       8.8%  "
      ]
     },
     "execution_count": 11,
     "metadata": {},
     "output_type": "execute_result"
    }
   ],
   "source": [
    "secto= pd.read_csv(\"D:/UPS_DECIMO/SIMULACION/asdk.csv\",skiprows=0, low_memory=False,encoding= 'latin1')\n",
    "secto.head()"
   ]
  },
  {
   "cell_type": "markdown",
   "id": "imported-thermal",
   "metadata": {
    "id": "E6OUmTW2bGVD",
    "papermill": {
     "duration": 0.038976,
     "end_time": "2021-12-06T04:12:13.182307",
     "exception": false,
     "start_time": "2021-12-06T04:12:13.143331",
     "status": "completed"
    },
    "tags": []
   },
   "source": [
    "##Funciones\n",
    "Para una mejor optimizacion del Codigo vamos a realizar una función que extrae solamente el año y lo adiciona en una nueva columna del dataframe\n",
    "\n",
    "Procedemos a extraer los años en donde se registraron estas cifras\n"
   ]
  },
  {
   "cell_type": "code",
   "execution_count": 12,
   "id": "electric-rebecca",
   "metadata": {
    "colab": {
     "base_uri": "https://localhost:8080/",
     "height": 206
    },
    "execution": {
     "iopub.execute_input": "2021-12-06T04:12:13.274250Z",
     "iopub.status.busy": "2021-12-06T04:12:13.273248Z",
     "iopub.status.idle": "2021-12-06T04:12:13.291357Z",
     "shell.execute_reply": "2021-12-06T04:12:13.292356Z"
    },
    "id": "YNWXAtP0Vbe7",
    "outputId": "b13ddaec-7a4b-406d-b89d-94a5165287b3",
    "papermill": {
     "duration": 0.071074,
     "end_time": "2021-12-06T04:12:13.292356",
     "exception": false,
     "start_time": "2021-12-06T04:12:13.221282",
     "status": "completed"
    },
    "tags": []
   },
   "outputs": [
    {
     "data": {
      "text/html": [
       "<div>\n",
       "<style scoped>\n",
       "    .dataframe tbody tr th:only-of-type {\n",
       "        vertical-align: middle;\n",
       "    }\n",
       "\n",
       "    .dataframe tbody tr th {\n",
       "        vertical-align: top;\n",
       "    }\n",
       "\n",
       "    .dataframe thead th {\n",
       "        text-align: right;\n",
       "    }\n",
       "</style>\n",
       "<table border=\"1\" class=\"dataframe\">\n",
       "  <thead>\n",
       "    <tr style=\"text-align: right;\">\n",
       "      <th></th>\n",
       "      <th>Unnamed: 0</th>\n",
       "      <th>Unnamed: 1</th>\n",
       "      <th>Sector Formal</th>\n",
       "      <th>Sector Informal</th>\n",
       "      <th>Empleo Doméstico</th>\n",
       "      <th>No Clasificados por Sector</th>\n",
       "      <th>Anios</th>\n",
       "    </tr>\n",
       "  </thead>\n",
       "  <tbody>\n",
       "    <tr>\n",
       "      <th>0</th>\n",
       "      <td>Unnamed: 2</td>\n",
       "      <td>06/01/2007</td>\n",
       "      <td>-</td>\n",
       "      <td>-</td>\n",
       "      <td>-</td>\n",
       "      <td>-</td>\n",
       "      <td>2007</td>\n",
       "    </tr>\n",
       "    <tr>\n",
       "      <th>1</th>\n",
       "      <td>Unnamed: 3</td>\n",
       "      <td>09/01/2007</td>\n",
       "      <td>-</td>\n",
       "      <td>-</td>\n",
       "      <td>-</td>\n",
       "      <td>-</td>\n",
       "      <td>2007</td>\n",
       "    </tr>\n",
       "    <tr>\n",
       "      <th>2</th>\n",
       "      <td>Unnamed: 4</td>\n",
       "      <td>12/01/2007</td>\n",
       "      <td>41%</td>\n",
       "      <td>45.1%</td>\n",
       "      <td>3.3%</td>\n",
       "      <td>10.6%</td>\n",
       "      <td>2007</td>\n",
       "    </tr>\n",
       "    <tr>\n",
       "      <th>3</th>\n",
       "      <td>Unnamed: 5</td>\n",
       "      <td>03/01/2008</td>\n",
       "      <td>-</td>\n",
       "      <td>-</td>\n",
       "      <td>-</td>\n",
       "      <td>-</td>\n",
       "      <td>2008</td>\n",
       "    </tr>\n",
       "    <tr>\n",
       "      <th>4</th>\n",
       "      <td>Unnamed: 6</td>\n",
       "      <td>06/01/2008</td>\n",
       "      <td>42.5%</td>\n",
       "      <td>45.4%</td>\n",
       "      <td>3.3%</td>\n",
       "      <td>8.8%</td>\n",
       "      <td>2008</td>\n",
       "    </tr>\n",
       "  </tbody>\n",
       "</table>\n",
       "</div>"
      ],
      "text/plain": [
       "   Unnamed: 0  Unnamed: 1 Sector Formal Sector Informal Empleo Doméstico  \\\n",
       "0  Unnamed: 2  06/01/2007             -               -                -   \n",
       "1  Unnamed: 3  09/01/2007             -               -                -   \n",
       "2  Unnamed: 4  12/01/2007           41%           45.1%             3.3%   \n",
       "3  Unnamed: 5  03/01/2008             -               -                -   \n",
       "4  Unnamed: 6  06/01/2008         42.5%           45.4%             3.3%   \n",
       "\n",
       "  No Clasificados por Sector Anios  \n",
       "0                          -  2007  \n",
       "1                          -  2007  \n",
       "2                      10.6%  2007  \n",
       "3                          -  2008  \n",
       "4                       8.8%  2008  "
      ]
     },
     "execution_count": 12,
     "metadata": {},
     "output_type": "execute_result"
    }
   ],
   "source": [
    "secto[\"Anios\"]=secto.apply(lambda x: extractYear(x[1]), axis=1)\n",
    "secto.head()"
   ]
  },
  {
   "cell_type": "markdown",
   "id": "acceptable-jonathan",
   "metadata": {
    "id": "xOEoYZegbWYb",
    "papermill": {
     "duration": 0.039974,
     "end_time": "2021-12-06T04:12:13.392293",
     "exception": false,
     "start_time": "2021-12-06T04:12:13.352319",
     "status": "completed"
    },
    "tags": []
   },
   "source": [
    "##Funcion\n",
    "Programamos una función que nos permite hacer  una búsqueda en los registros del dataset y posteriormente sería llamada desde una función lambda"
   ]
  },
  {
   "cell_type": "code",
   "execution_count": 13,
   "id": "through-breed",
   "metadata": {
    "execution": {
     "iopub.execute_input": "2021-12-06T04:12:13.476242Z",
     "iopub.status.busy": "2021-12-06T04:12:13.475241Z",
     "iopub.status.idle": "2021-12-06T04:12:13.479345Z",
     "shell.execute_reply": "2021-12-06T04:12:13.479345Z"
    },
    "id": "UQrvegL3WYoi",
    "papermill": {
     "duration": 0.048073,
     "end_time": "2021-12-06T04:12:13.479345",
     "exception": false,
     "start_time": "2021-12-06T04:12:13.431272",
     "status": "completed"
    },
    "tags": []
   },
   "outputs": [],
   "source": [
    "def search_value_sec(param,key,secF,secIn,empD,noClass):\n",
    "  if param==key:\n",
    "    return float(secF.strip('%')),float(secIn.strip('%')),float(empD.strip('%')),float(noClass.strip('%')),key  \n"
   ]
  },
  {
   "cell_type": "markdown",
   "id": "fallen-appraisal",
   "metadata": {
    "id": "WO1KTj_6bYui",
    "papermill": {
     "duration": 0.038976,
     "end_time": "2021-12-06T04:12:13.558296",
     "exception": false,
     "start_time": "2021-12-06T04:12:13.519320",
     "status": "completed"
    },
    "tags": []
   },
   "source": [
    "##Funcion\n",
    "Esta función se encarga de recibir un rango de años para luego obtener un reporte de cifras y consiguiente la graficación de los datos finalmente retorna un dataset con la informacion requerida\n"
   ]
  },
  {
   "cell_type": "code",
   "execution_count": 14,
   "id": "hearing-outline",
   "metadata": {
    "execution": {
     "iopub.execute_input": "2021-12-06T04:12:13.646241Z",
     "iopub.status.busy": "2021-12-06T04:12:13.645241Z",
     "iopub.status.idle": "2021-12-06T04:12:13.651340Z",
     "shell.execute_reply": "2021-12-06T04:12:13.651340Z"
    },
    "id": "loXIS9ygfHT-",
    "papermill": {
     "duration": 0.054069,
     "end_time": "2021-12-06T04:12:13.652338",
     "exception": false,
     "start_time": "2021-12-06T04:12:13.598269",
     "status": "completed"
    },
    "tags": []
   },
   "outputs": [],
   "source": [
    "def sectorizacion(rang1,rang2):\n",
    "  dfF=pd.DataFrame()\n",
    "  for i in range(rang1,rang2):\n",
    "    dfT=secto.apply(lambda x: search_value_sec(str(i),x[6],x[2],x[3],x[4],x[5]),axis=1)\n",
    "    dfT=dfT.dropna()\n",
    "    dfT=dfT.to_frame()\n",
    "    dfT.columns=['one']\n",
    "    dfT=pd.DataFrame(dfT['one'].values.tolist())\n",
    "    dfT.columns=['Sector Formal'\t,'Sector Informal'\t,'Empleo Doméstico',\t'No Clasificados por Sector',\t'Anios']\n",
    "    dfTMean=dfT.describe().iloc[1:2]\n",
    "    dfTMean['Anios']=i\n",
    "    dfF=pd.concat([dfF,dfTMean],axis=0)\n",
    "    #dfF=pd.concat([dfF,dfT],axis=0)\n",
    "\n",
    "\n",
    "    #dfT=pd.DataFrame(,columns=['Sector Formal'\t,'Sector Informal'\t,'Empleo Doméstico',\t'No Clasificados por Sector'])\n",
    "    \n",
    "    \n",
    "    #dfF=pd.concat([dfF,dfT])\n",
    "  dfF=dfF.transpose()  \n",
    "  dfF.columns=dfF.iloc[-1]\n",
    "  dfF=dfF.iloc[:-1]\n",
    "  dfF.to_csv('D:/UPS_DECIMO/SIMULACION/graficasPie.csv',encoding= 'latin1')\n",
    "  dfF= pd.read_csv(\"D:/UPS_DECIMO/SIMULACION/graficasPie.csv\",skiprows=0, low_memory=False,encoding= 'latin1')\n",
    "  dfF.set_index('Unnamed: 0',inplace = True)\n",
    "  \n",
    "  return dfF\n"
   ]
  },
  {
   "cell_type": "markdown",
   "id": "threatened-japan",
   "metadata": {
    "id": "P9fek9bwb5wK",
    "papermill": {
     "duration": 0.038976,
     "end_time": "2021-12-06T04:12:13.731290",
     "exception": false,
     "start_time": "2021-12-06T04:12:13.692314",
     "status": "completed"
    },
    "tags": []
   },
   "source": [
    "##Funcion \n",
    "Nos permite graficar los pie en función de los mismos rangos ingresados en la función anterior\n"
   ]
  },
  {
   "cell_type": "code",
   "execution_count": 15,
   "id": "bizarre-namibia",
   "metadata": {
    "execution": {
     "iopub.execute_input": "2021-12-06T04:12:13.815236Z",
     "iopub.status.busy": "2021-12-06T04:12:13.814237Z",
     "iopub.status.idle": "2021-12-06T04:12:13.820763Z",
     "shell.execute_reply": "2021-12-06T04:12:13.820763Z"
    },
    "id": "xjIip6UKQo4i",
    "papermill": {
     "duration": 0.050497,
     "end_time": "2021-12-06T04:12:13.820763",
     "exception": false,
     "start_time": "2021-12-06T04:12:13.770266",
     "status": "completed"
    },
    "tags": []
   },
   "outputs": [],
   "source": [
    "def graficar(dataF,rang1,rang2):\n",
    "  for i in range(rang1,rang2):\n",
    "    dataF.plot.pie(y=str(i)+\".0\", figsize=(5, 5))\n"
   ]
  },
  {
   "cell_type": "markdown",
   "id": "effective-keyboard",
   "metadata": {
    "id": "tsWYvVXrcL2Q",
    "papermill": {
     "duration": 0.039974,
     "end_time": "2021-12-06T04:12:13.902711",
     "exception": false,
     "start_time": "2021-12-06T04:12:13.862737",
     "status": "completed"
    },
    "tags": []
   },
   "source": [
    "##Información"
   ]
  },
  {
   "cell_type": "code",
   "execution_count": 16,
   "id": "interpreted-evans",
   "metadata": {
    "execution": {
     "iopub.execute_input": "2021-12-06T04:12:13.986660Z",
     "iopub.status.busy": "2021-12-06T04:12:13.985661Z",
     "iopub.status.idle": "2021-12-06T04:12:13.992687Z",
     "shell.execute_reply": "2021-12-06T04:12:13.992687Z"
    },
    "papermill": {
     "duration": 0.050999,
     "end_time": "2021-12-06T04:12:13.993687",
     "exception": false,
     "start_time": "2021-12-06T04:12:13.942688",
     "status": "completed"
    },
    "tags": [
     "parameters"
    ]
   },
   "outputs": [],
   "source": [
    "#2017 2022\n",
    "rango1=''\n",
    "rango2=''\n"
   ]
  },
  {
   "cell_type": "code",
   "execution_count": 17,
   "id": "raising-variation",
   "metadata": {
    "execution": {
     "iopub.execute_input": "2021-12-06T04:12:14.080991Z",
     "iopub.status.busy": "2021-12-06T04:12:14.079991Z",
     "iopub.status.idle": "2021-12-06T04:12:14.086092Z",
     "shell.execute_reply": "2021-12-06T04:12:14.086092Z"
    },
    "papermill": {
     "duration": 0.050078,
     "end_time": "2021-12-06T04:12:14.087092",
     "exception": false,
     "start_time": "2021-12-06T04:12:14.037014",
     "status": "completed"
    },
    "tags": [
     "injected-parameters"
    ]
   },
   "outputs": [],
   "source": [
    "# Parameters\n",
    "rango1 = \"2017\"\n",
    "rango2 = \"2022\"\n"
   ]
  },
  {
   "cell_type": "code",
   "execution_count": 18,
   "id": "established-kansas",
   "metadata": {
    "execution": {
     "iopub.execute_input": "2021-12-06T04:12:14.171040Z",
     "iopub.status.busy": "2021-12-06T04:12:14.170040Z",
     "iopub.status.idle": "2021-12-06T04:12:14.180655Z",
     "shell.execute_reply": "2021-12-06T04:12:14.179656Z"
    },
    "papermill": {
     "duration": 0.054587,
     "end_time": "2021-12-06T04:12:14.180655",
     "exception": false,
     "start_time": "2021-12-06T04:12:14.126068",
     "status": "completed"
    },
    "tags": []
   },
   "outputs": [],
   "source": [
    "rango1=int(rango1)\n",
    "rango2=int(rango2)"
   ]
  },
  {
   "cell_type": "code",
   "execution_count": 19,
   "id": "collective-federal",
   "metadata": {
    "colab": {
     "base_uri": "https://localhost:8080/",
     "height": 1000
    },
    "execution": {
     "iopub.execute_input": "2021-12-06T04:12:14.271599Z",
     "iopub.status.busy": "2021-12-06T04:12:14.268598Z",
     "iopub.status.idle": "2021-12-06T04:12:15.428114Z",
     "shell.execute_reply": "2021-12-06T04:12:15.428114Z"
    },
    "id": "bx_WML-NXDFC",
    "outputId": "4603f59b-cf73-4c46-a9ca-84d368fa3c60",
    "papermill": {
     "duration": 1.208483,
     "end_time": "2021-12-06T04:12:15.429113",
     "exception": false,
     "start_time": "2021-12-06T04:12:14.220630",
     "status": "completed"
    },
    "tags": []
   },
   "outputs": [
    {
     "data": {
      "text/html": [
       "<div>\n",
       "<style scoped>\n",
       "    .dataframe tbody tr th:only-of-type {\n",
       "        vertical-align: middle;\n",
       "    }\n",
       "\n",
       "    .dataframe tbody tr th {\n",
       "        vertical-align: top;\n",
       "    }\n",
       "\n",
       "    .dataframe thead th {\n",
       "        text-align: right;\n",
       "    }\n",
       "</style>\n",
       "<table border=\"1\" class=\"dataframe\">\n",
       "  <thead>\n",
       "    <tr style=\"text-align: right;\">\n",
       "      <th></th>\n",
       "      <th>2017.0</th>\n",
       "      <th>2018.0</th>\n",
       "      <th>2019.0</th>\n",
       "      <th>2020.0</th>\n",
       "      <th>2021.0</th>\n",
       "    </tr>\n",
       "    <tr>\n",
       "      <th>Unnamed: 0</th>\n",
       "      <th></th>\n",
       "      <th></th>\n",
       "      <th></th>\n",
       "      <th></th>\n",
       "      <th></th>\n",
       "    </tr>\n",
       "  </thead>\n",
       "  <tbody>\n",
       "    <tr>\n",
       "      <th>Sector Formal</th>\n",
       "      <td>47.800</td>\n",
       "      <td>46.825</td>\n",
       "      <td>45.700</td>\n",
       "      <td>41.525</td>\n",
       "      <td>41.44</td>\n",
       "    </tr>\n",
       "    <tr>\n",
       "      <th>Sector Informal</th>\n",
       "      <td>45.275</td>\n",
       "      <td>46.225</td>\n",
       "      <td>46.600</td>\n",
       "      <td>52.250</td>\n",
       "      <td>51.03</td>\n",
       "    </tr>\n",
       "    <tr>\n",
       "      <th>Empleo Doméstico</th>\n",
       "      <td>2.700</td>\n",
       "      <td>2.700</td>\n",
       "      <td>2.750</td>\n",
       "      <td>2.000</td>\n",
       "      <td>2.06</td>\n",
       "    </tr>\n",
       "    <tr>\n",
       "      <th>No Clasificados por Sector</th>\n",
       "      <td>4.175</td>\n",
       "      <td>4.275</td>\n",
       "      <td>4.975</td>\n",
       "      <td>4.225</td>\n",
       "      <td>5.49</td>\n",
       "    </tr>\n",
       "  </tbody>\n",
       "</table>\n",
       "</div>"
      ],
      "text/plain": [
       "                            2017.0  2018.0  2019.0  2020.0  2021.0\n",
       "Unnamed: 0                                                        \n",
       "Sector Formal               47.800  46.825  45.700  41.525   41.44\n",
       "Sector Informal             45.275  46.225  46.600  52.250   51.03\n",
       "Empleo Doméstico             2.700   2.700   2.750   2.000    2.06\n",
       "No Clasificados por Sector   4.175   4.275   4.975   4.225    5.49"
      ]
     },
     "execution_count": 19,
     "metadata": {},
     "output_type": "execute_result"
    },
    {
     "data": {
      "image/png": "[encoded data removed]",
      "text/plain": [
       "<Figure size 360x360 with 1 Axes>"
      ]
     },
     "metadata": {},
     "output_type": "display_data"
    },
    {
     "data": {
      "image/png": "[encoded data removed]",
      "text/plain": [
       "<Figure size 360x360 with 1 Axes>"
      ]
     },
     "metadata": {},
     "output_type": "display_data"
    },
    {
     "data": {
      "image/png": "[encoded data removed]",
      "text/plain": [
       "<Figure size 360x360 with 1 Axes>"
      ]
     },
     "metadata": {},
     "output_type": "display_data"
    },
    {
     "data": {
      "image/png": "[encoded data removed]",
      "text/plain": [
       "<Figure size 360x360 with 1 Axes>"
      ]
     },
     "metadata": {},
     "output_type": "display_data"
    },
    {
     "data": {
      "image/png": "[encoded data removed]",
      "text/plain": [
       "<Figure size 360x360 with 1 Axes>"
      ]
     },
     "metadata": {},
     "output_type": "display_data"
    }
   ],
   "source": [
    "dataSecto=sectorizacion(rango1,rango2)\n",
    "graficar(dataSecto,rango1,rango2)\n",
    "dataSecto.head()"
   ]
  },
  {
   "cell_type": "markdown",
   "id": "motivated-hindu",
   "metadata": {
    "id": "qOBmFAwBKl1x",
    "papermill": {
     "duration": 0.045972,
     "end_time": "2021-12-06T04:12:15.521056",
     "exception": false,
     "start_time": "2021-12-06T04:12:15.475084",
     "status": "completed"
    },
    "tags": []
   },
   "source": [
    "##Generar histogramas subempleo, empleo pleno y empleo no pleno por año\n",
    "Procedemos a extraer la información necesaria para resolver el enunciado, dicha información está disponible en el dataset de población "
   ]
  },
  {
   "cell_type": "code",
   "execution_count": 20,
   "id": "appointed-curtis",
   "metadata": {
    "execution": {
     "iopub.execute_input": "2021-12-06T04:12:15.619995Z",
     "iopub.status.busy": "2021-12-06T04:12:15.618996Z",
     "iopub.status.idle": "2021-12-06T04:12:15.633007Z",
     "shell.execute_reply": "2021-12-06T04:12:15.633007Z"
    },
    "id": "pcEdSvXuKpxD",
    "papermill": {
     "duration": 0.066979,
     "end_time": "2021-12-06T04:12:15.633007",
     "exception": false,
     "start_time": "2021-12-06T04:12:15.566028",
     "status": "completed"
    },
    "tags": []
   },
   "outputs": [],
   "source": [
    "subempleo=pob.loc[ (pob['Unnamed: 2']) == 'Subempleo']\n",
    "pleno=pob.loc[ (pob['Unnamed: 2']) == 'Empleo Adecuado/Pleno']#Empleo Adecuado/Pleno, Otro Empleo no pleno\n",
    "no_pleno=pob.loc[ (pob['Unnamed: 2']) == 'Otro Empleo no pleno']"
   ]
  },
  {
   "cell_type": "markdown",
   "id": "helpful-skiing",
   "metadata": {
    "id": "s_DrkdKtdCv9",
    "papermill": {
     "duration": 0.045973,
     "end_time": "2021-12-06T04:12:15.726950",
     "exception": false,
     "start_time": "2021-12-06T04:12:15.680977",
     "status": "completed"
    },
    "tags": []
   },
   "source": [
    "##Funciones\n",
    "Para una mejor optimizacion del Codigo vamos a realizar una función que extrae solamente el año y lo adiciona en una nueva columna del dataframe\n",
    "\n",
    "Procedemos a extraer los años en donde se registraron estas cifras\n"
   ]
  },
  {
   "cell_type": "code",
   "execution_count": 21,
   "id": "efficient-hartford",
   "metadata": {
    "execution": {
     "iopub.execute_input": "2021-12-06T04:12:15.831883Z",
     "iopub.status.busy": "2021-12-06T04:12:15.830884Z",
     "iopub.status.idle": "2021-12-06T04:12:15.836893Z",
     "shell.execute_reply": "2021-12-06T04:12:15.836893Z"
    },
    "id": "aJeiZCHoK288",
    "papermill": {
     "duration": 0.06397,
     "end_time": "2021-12-06T04:12:15.837892",
     "exception": false,
     "start_time": "2021-12-06T04:12:15.773922",
     "status": "completed"
    },
    "tags": []
   },
   "outputs": [
    {
     "name": "stderr",
     "output_type": "stream",
     "text": [
      "<ipython-input-21-0df9a81e57ea>:1: SettingWithCopyWarning: \n",
      "A value is trying to be set on a copy of a slice from a DataFrame.\n",
      "Try using .loc[row_indexer,col_indexer] = value instead\n",
      "\n",
      "See the caveats in the documentation: https://pandas.pydata.org/pandas-docs/stable/user_guide/indexing.html#returning-a-view-versus-a-copy\n",
      "  subempleo[\"Anios\"]=subempleo.apply(lambda x: extractYear(x[1]), axis=1)\n",
      "<ipython-input-21-0df9a81e57ea>:2: SettingWithCopyWarning: \n",
      "A value is trying to be set on a copy of a slice from a DataFrame.\n",
      "Try using .loc[row_indexer,col_indexer] = value instead\n",
      "\n",
      "See the caveats in the documentation: https://pandas.pydata.org/pandas-docs/stable/user_guide/indexing.html#returning-a-view-versus-a-copy\n",
      "  pleno[\"Anios\"]=pleno.apply(lambda x: extractYear(x[1]), axis=1)\n",
      "<ipython-input-21-0df9a81e57ea>:3: SettingWithCopyWarning: \n",
      "A value is trying to be set on a copy of a slice from a DataFrame.\n",
      "Try using .loc[row_indexer,col_indexer] = value instead\n",
      "\n",
      "See the caveats in the documentation: https://pandas.pydata.org/pandas-docs/stable/user_guide/indexing.html#returning-a-view-versus-a-copy\n",
      "  no_pleno[\"Anios\"]=no_pleno.apply(lambda x: extractYear(x[1]), axis=1)\n"
     ]
    }
   ],
   "source": [
    "subempleo[\"Anios\"]=subempleo.apply(lambda x: extractYear(x[1]), axis=1)\n",
    "pleno[\"Anios\"]=pleno.apply(lambda x: extractYear(x[1]), axis=1)\n",
    "no_pleno[\"Anios\"]=no_pleno.apply(lambda x: extractYear(x[1]), axis=1)"
   ]
  },
  {
   "cell_type": "markdown",
   "id": "remarkable-hamilton",
   "metadata": {
    "id": "WvFy5qjCdGoU",
    "papermill": {
     "duration": 0.04697,
     "end_time": "2021-12-06T04:12:15.931835",
     "exception": false,
     "start_time": "2021-12-06T04:12:15.884865",
     "status": "completed"
    },
    "tags": []
   },
   "source": [
    "Procedemos a concatenar toda la información en un solo dataframe"
   ]
  },
  {
   "cell_type": "code",
   "execution_count": 22,
   "id": "naughty-discovery",
   "metadata": {
    "colab": {
     "base_uri": "https://localhost:8080/",
     "height": 206
    },
    "execution": {
     "iopub.execute_input": "2021-12-06T04:12:16.039765Z",
     "iopub.status.busy": "2021-12-06T04:12:16.038766Z",
     "iopub.status.idle": "2021-12-06T04:12:16.053595Z",
     "shell.execute_reply": "2021-12-06T04:12:16.052593Z"
    },
    "id": "rjtjoTvfK5Bc",
    "outputId": "69bc2230-0ef9-45eb-c09c-85121615055f",
    "papermill": {
     "duration": 0.074789,
     "end_time": "2021-12-06T04:12:16.053595",
     "exception": false,
     "start_time": "2021-12-06T04:12:15.978806",
     "status": "completed"
    },
    "tags": []
   },
   "outputs": [
    {
     "data": {
      "text/html": [
       "<div>\n",
       "<style scoped>\n",
       "    .dataframe tbody tr th:only-of-type {\n",
       "        vertical-align: middle;\n",
       "    }\n",
       "\n",
       "    .dataframe tbody tr th {\n",
       "        vertical-align: top;\n",
       "    }\n",
       "\n",
       "    .dataframe thead th {\n",
       "        text-align: right;\n",
       "    }\n",
       "</style>\n",
       "<table border=\"1\" class=\"dataframe\">\n",
       "  <thead>\n",
       "    <tr style=\"text-align: right;\">\n",
       "      <th></th>\n",
       "      <th>Tipo</th>\n",
       "      <th>Total</th>\n",
       "      <th>Anios</th>\n",
       "    </tr>\n",
       "  </thead>\n",
       "  <tbody>\n",
       "    <tr>\n",
       "      <th>6</th>\n",
       "      <td>Subempleo</td>\n",
       "      <td>1155872</td>\n",
       "      <td>2007</td>\n",
       "    </tr>\n",
       "    <tr>\n",
       "      <th>24</th>\n",
       "      <td>Subempleo</td>\n",
       "      <td>1130699</td>\n",
       "      <td>2008</td>\n",
       "    </tr>\n",
       "    <tr>\n",
       "      <th>42</th>\n",
       "      <td>Subempleo</td>\n",
       "      <td>957978</td>\n",
       "      <td>2008</td>\n",
       "    </tr>\n",
       "    <tr>\n",
       "      <th>60</th>\n",
       "      <td>Subempleo</td>\n",
       "      <td>1071615</td>\n",
       "      <td>2009</td>\n",
       "    </tr>\n",
       "    <tr>\n",
       "      <th>78</th>\n",
       "      <td>Subempleo</td>\n",
       "      <td>1041266</td>\n",
       "      <td>2010</td>\n",
       "    </tr>\n",
       "  </tbody>\n",
       "</table>\n",
       "</div>"
      ],
      "text/plain": [
       "         Tipo    Total Anios\n",
       "6   Subempleo  1155872  2007\n",
       "24  Subempleo  1130699  2008\n",
       "42  Subempleo   957978  2008\n",
       "60  Subempleo  1071615  2009\n",
       "78  Subempleo  1041266  2010"
      ]
     },
     "execution_count": 22,
     "metadata": {},
     "output_type": "execute_result"
    }
   ],
   "source": [
    "dataF_Gegeral=pd.concat([subempleo,pleno,no_pleno],axis=0)\n",
    "dataF_Gegeral=dataF_Gegeral.iloc[:,[2,3,8]]\n",
    "dataF_Gegeral.columns=['Tipo','Total','Anios']\n",
    "dataF_Gegeral.head()"
   ]
  },
  {
   "cell_type": "markdown",
   "id": "toxic-monte",
   "metadata": {
    "id": "kYN4zFKSd4Gj",
    "papermill": {
     "duration": 0.04697,
     "end_time": "2021-12-06T04:12:16.148534",
     "exception": false,
     "start_time": "2021-12-06T04:12:16.101564",
     "status": "completed"
    },
    "tags": []
   },
   "source": [
    "\n",
    "##Búsqueda\n",
    "Procedemos ha realizar la búsqueda en función de todos los años y un palabra clave que  en este caso sería Subempleo  empleo pleno y no pleno tanto en el dataframe de empleo\n",
    "\n"
   ]
  },
  {
   "cell_type": "code",
   "execution_count": 23,
   "id": "coordinated-bachelor",
   "metadata": {
    "execution": {
     "iopub.execute_input": "2021-12-06T04:12:16.248473Z",
     "iopub.status.busy": "2021-12-06T04:12:16.247472Z",
     "iopub.status.idle": "2021-12-06T04:12:16.256342Z",
     "shell.execute_reply": "2021-12-06T04:12:16.257339Z"
    },
    "id": "3DOabpTIK-_P",
    "papermill": {
     "duration": 0.061832,
     "end_time": "2021-12-06T04:12:16.257339",
     "exception": false,
     "start_time": "2021-12-06T04:12:16.195507",
     "status": "completed"
    },
    "tags": []
   },
   "outputs": [],
   "source": [
    "def search_value(param_anio,param_tipo,key_anio,key_tipo,total):\n",
    "  if param_anio==key_anio and param_tipo== key_tipo:\n",
    "    return param_tipo,total,param_anio"
   ]
  },
  {
   "cell_type": "markdown",
   "id": "south-immigration",
   "metadata": {
    "id": "Xbpy-wiheMEg",
    "papermill": {
     "duration": 0.04797,
     "end_time": "2021-12-06T04:12:16.353280",
     "exception": false,
     "start_time": "2021-12-06T04:12:16.305310",
     "status": "completed"
    },
    "tags": []
   },
   "source": [
    "##Funcion \n",
    "Esta función general nos permite obtener el data frame que buscamos en función del rango de años y una palabra clave, nos debe retornar la información requerida\n"
   ]
  },
  {
   "cell_type": "code",
   "execution_count": 24,
   "id": "arranged-wealth",
   "metadata": {
    "execution": {
     "iopub.execute_input": "2021-12-06T04:12:16.455555Z",
     "iopub.status.busy": "2021-12-06T04:12:16.455555Z",
     "iopub.status.idle": "2021-12-06T04:12:16.459312Z",
     "shell.execute_reply": "2021-12-06T04:12:16.460313Z"
    },
    "id": "xHaMxgg-LB_X",
    "papermill": {
     "duration": 0.060062,
     "end_time": "2021-12-06T04:12:16.460313",
     "exception": false,
     "start_time": "2021-12-06T04:12:16.400251",
     "status": "completed"
    },
    "tags": []
   },
   "outputs": [],
   "source": [
    "def procesado_sub_pleno_noPleno_empleo(rang1,rang2,tipo):\n",
    "    dfF=pd.DataFrame(columns=['Tipo','Total','Anios'])\n",
    "    #tipo='Subempleo'\n",
    "    for i in range(rang1,rang2):\n",
    "        dfT=dataF_Gegeral.apply(lambda x: search_value(str(i),tipo,x[2],x[0],x[1]),axis=1)\n",
    "        dfT=dfT.dropna()\n",
    "        dfT=dfT.to_frame()\n",
    "        dfT.columns=['one']\n",
    "        dfT=pd.DataFrame(dfT['one'].values.tolist())\n",
    "        dfT.columns=['Tipo','Total','Anios']\n",
    "        dfF=pd.concat([dfF,dfT],axis=0)\n",
    "        #print(dfT)\n",
    "        #break\n",
    "\n",
    "    dfF[['Total']]=dfF[['Total']].astype(int)\n",
    "    #dfF.head()\n",
    "    return dfF.groupby(['Anios'])['Total'].agg([np.average]) "
   ]
  },
  {
   "cell_type": "code",
   "execution_count": null,
   "id": "distant-locator",
   "metadata": {
    "id": "ZuuozbHRAz5P",
    "papermill": {
     "duration": 0.04897,
     "end_time": "2021-12-06T04:12:16.557255",
     "exception": false,
     "start_time": "2021-12-06T04:12:16.508285",
     "status": "completed"
    },
    "tags": []
   },
   "outputs": [],
   "source": []
  },
  {
   "cell_type": "markdown",
   "id": "palestinian-gateway",
   "metadata": {
    "id": "-56QKgz_esXh",
    "papermill": {
     "duration": 0.04797,
     "end_time": "2021-12-06T04:12:16.653192",
     "exception": false,
     "start_time": "2021-12-06T04:12:16.605222",
     "status": "completed"
    },
    "tags": []
   },
   "source": [
    "##Llamada a Funciones y Graficar"
   ]
  },
  {
   "cell_type": "code",
   "execution_count": 25,
   "id": "enhanced-london",
   "metadata": {
    "execution": {
     "iopub.execute_input": "2021-12-06T04:12:16.752131Z",
     "iopub.status.busy": "2021-12-06T04:12:16.751131Z",
     "iopub.status.idle": "2021-12-06T04:12:16.756129Z",
     "shell.execute_reply": "2021-12-06T04:12:16.756129Z"
    },
    "id": "Z9zJcT5prlNM",
    "papermill": {
     "duration": 0.055966,
     "end_time": "2021-12-06T04:12:16.756129",
     "exception": false,
     "start_time": "2021-12-06T04:12:16.700163",
     "status": "completed"
    },
    "tags": []
   },
   "outputs": [],
   "source": [
    "def graficarH(data):\n",
    "  data.plot(kind=\"bar\", figsize=(16,4))"
   ]
  },
  {
   "cell_type": "code",
   "execution_count": 26,
   "id": "positive-newcastle",
   "metadata": {
    "execution": {
     "iopub.execute_input": "2021-12-06T04:12:17.011861Z",
     "iopub.status.busy": "2021-12-06T04:12:17.011861Z",
     "iopub.status.idle": "2021-12-06T04:12:17.023010Z",
     "shell.execute_reply": "2021-12-06T04:12:17.022013Z"
    },
    "id": "fS-bOt2kLGrX",
    "papermill": {
     "duration": 0.214614,
     "end_time": "2021-12-06T04:12:17.023010",
     "exception": false,
     "start_time": "2021-12-06T04:12:16.808396",
     "status": "completed"
    },
    "tags": []
   },
   "outputs": [],
   "source": [
    "df_sub=procesado_sub_pleno_noPleno_empleo(rango1,rango2,\"Subempleo\")\n",
    "df_pleno=procesado_sub_pleno_noPleno_empleo(rango1,rango2,\"Empleo Adecuado/Pleno\")\n",
    "df_no_pleno=procesado_sub_pleno_noPleno_empleo(rango1,rango2,\"Otro Empleo no pleno\")"
   ]
  },
  {
   "cell_type": "code",
   "execution_count": 27,
   "id": "homeless-florida",
   "metadata": {
    "colab": {
     "base_uri": "https://localhost:8080/",
     "height": 527
    },
    "execution": {
     "iopub.execute_input": "2021-12-06T04:12:17.179836Z",
     "iopub.status.busy": "2021-12-06T04:12:17.164845Z",
     "iopub.status.idle": "2021-12-06T04:12:17.351041Z",
     "shell.execute_reply": "2021-12-06T04:12:17.351041Z"
    },
    "id": "0L7kXGukLIIX",
    "outputId": "0e154b36-d931-4a7b-cc1e-e1042dccf397",
    "papermill": {
     "duration": 0.279061,
     "end_time": "2021-12-06T04:12:17.352040",
     "exception": false,
     "start_time": "2021-12-06T04:12:17.072979",
     "status": "completed"
    },
    "tags": []
   },
   "outputs": [
    {
     "data": {
      "text/html": [
       "<div>\n",
       "<style scoped>\n",
       "    .dataframe tbody tr th:only-of-type {\n",
       "        vertical-align: middle;\n",
       "    }\n",
       "\n",
       "    .dataframe tbody tr th {\n",
       "        vertical-align: top;\n",
       "    }\n",
       "\n",
       "    .dataframe thead th {\n",
       "        text-align: right;\n",
       "    }\n",
       "</style>\n",
       "<table border=\"1\" class=\"dataframe\">\n",
       "  <thead>\n",
       "    <tr style=\"text-align: right;\">\n",
       "      <th></th>\n",
       "      <th>subempleo</th>\n",
       "      <th>pleno</th>\n",
       "      <th>no_pleno</th>\n",
       "    </tr>\n",
       "    <tr>\n",
       "      <th>Anios</th>\n",
       "      <th></th>\n",
       "      <th></th>\n",
       "      <th></th>\n",
       "    </tr>\n",
       "  </thead>\n",
       "  <tbody>\n",
       "    <tr>\n",
       "      <th>2017</th>\n",
       "      <td>1669343.50</td>\n",
       "      <td>3275341.00</td>\n",
       "      <td>1986290.00</td>\n",
       "    </tr>\n",
       "    <tr>\n",
       "      <th>2018</th>\n",
       "      <td>1493030.00</td>\n",
       "      <td>3249694.50</td>\n",
       "      <td>2162808.00</td>\n",
       "    </tr>\n",
       "    <tr>\n",
       "      <th>2019</th>\n",
       "      <td>1570431.25</td>\n",
       "      <td>3148216.75</td>\n",
       "      <td>2207743.50</td>\n",
       "    </tr>\n",
       "    <tr>\n",
       "      <th>2020</th>\n",
       "      <td>1978116.75</td>\n",
       "      <td>2395943.75</td>\n",
       "      <td>2253043.75</td>\n",
       "    </tr>\n",
       "    <tr>\n",
       "      <th>2021</th>\n",
       "      <td>1933593.10</td>\n",
       "      <td>2646380.10</td>\n",
       "      <td>2265989.90</td>\n",
       "    </tr>\n",
       "  </tbody>\n",
       "</table>\n",
       "</div>"
      ],
      "text/plain": [
       "        subempleo       pleno    no_pleno\n",
       "Anios                                    \n",
       "2017   1669343.50  3275341.00  1986290.00\n",
       "2018   1493030.00  3249694.50  2162808.00\n",
       "2019   1570431.25  3148216.75  2207743.50\n",
       "2020   1978116.75  2395943.75  2253043.75\n",
       "2021   1933593.10  2646380.10  2265989.90"
      ]
     },
     "execution_count": 27,
     "metadata": {},
     "output_type": "execute_result"
    },
    {
     "data": {
      "image/png": "[encoded data removed]",
      "text/plain": [
       "<Figure size 1152x288 with 1 Axes>"
      ]
     },
     "metadata": {
      "needs_background": "light"
     },
     "output_type": "display_data"
    }
   ],
   "source": [
    "df_histo=df_sub\n",
    "df_histo['pleno']=df_pleno.iloc[:,-1]\n",
    "df_histo['no_pleno']=df_no_pleno.iloc[:,-1]\n",
    "df_histo.rename(columns={'average':'subempleo'},inplace=True)\n",
    "graficarH(df_histo)\n",
    "df_histo.head()"
   ]
  },
  {
   "cell_type": "markdown",
   "id": "major-mailman",
   "metadata": {
    "id": "bI-HHqRu9foY",
    "papermill": {
     "duration": 0.049969,
     "end_time": "2021-12-06T04:12:17.451979",
     "exception": false,
     "start_time": "2021-12-06T04:12:17.402010",
     "status": "completed"
    },
    "tags": []
   },
   "source": [
    "##Concluciones\n",
    "*   Los estudiantes refuerzan conocimientos y práctica en el procesamiento y análisis de datos \n",
    "\n",
    "*   En cuanto a las cifras de empleo y desempleo podemos concluir que a lo largo de los años el nivel ha ido en aumento con una considerable diferencia entre las cifras analizadas.\n",
    "\n",
    "*   Del mismo caso en el análisis realizado la sectorización del empleo, subempleo, empleo pleno y empleo no pleno podemos evidenciar que existe una diferencia poco perceptible en función a los años que se ingresa como parametro\n",
    "\n",
    "\n",
    "##Recomendación\n",
    "Para cargar los datos proporcionados por el docente  es necesario realizar un paso adicional el cual consiste el transformar el .csv a formato excel y posterior mente transformarlo a formato .csv nuevamente, hecho estos pasos no tendremos problemas al momento de cargar los datos de entrada\n",
    "\n"
   ]
  }
 ],
 "metadata": {
  "colab": {
   "collapsed_sections": [],
   "name": "Prueba1.ipynb",
   "provenance": []
  },
  "kernelspec": {
   "display_name": "Python 3",
   "language": "python",
   "name": "python3"
  },
  "language_info": {
   "codemirror_mode": {
    "name": "ipython",
    "version": 3
   },
   "file_extension": ".py",
   "mimetype": "text/x-python",
   "name": "python",
   "nbconvert_exporter": "python",
   "pygments_lexer": "ipython3",
   "version": "3.8.5"
  },
  "papermill": {
   "default_parameters": {},
   "duration": 10.651804,
   "end_time": "2021-12-06T04:12:17.929472",
   "environment_variables": {},
   "exception": null,
   "input_path": "Prueba1_param.ipynb",
   "output_path": "Prueba1_param_out.ipynb",
   "parameters": {
    "rango1": "2017",
    "rango2": "2022"
   },
   "start_time": "2021-12-06T04:12:07.277668",
   "version": "2.3.3"
  }
 },
 "nbformat": 4,
 "nbformat_minor": 5
}