{
 "cells": [
  {
   "cell_type": "markdown",
   "metadata": {
    "id": "rJfMML60zaoX"
   },
   "source": [
    "\n",
    "##**Prueba Simulación**\n",
    "---\n",
    "##**Estudiante:** Pedro Illaisaca\n",
    "---\n",
    "##**Carrera:** Computación\n"
   ]
  },
  {
   "cell_type": "markdown",
   "metadata": {
    "id": "kJWpqKWdB3uj"
   },
   "source": [
    "##Importamos las librerías para el procesado de datos##"
   ]
  },
  {
   "cell_type": "code",
   "execution_count": 23,
   "metadata": {
    "id": "2J4GO53azxdU"
   },
   "outputs": [],
   "source": [
    "# importar las librerias necesarias\n",
    "import matplotlib.pyplot as plt\n",
    "import numpy as np\n",
    "import pandas as pd\n"
   ]
  },
  {
   "cell_type": "markdown",
   "metadata": {
    "id": "Y4VWb3GgCb68"
   },
   "source": [
    "##Importamos las librerías para presentar las gráficas"
   ]
  },
  {
   "cell_type": "markdown",
   "metadata": {
    "id": "n6e8troLC4rQ"
   },
   "source": [
    "##Cargamos el dataset de Población\n",
    "En este conjunto de datos encontramos las cifras de desempleo y empleo en el Ecuador desde el año 2007 hasta el presente 2021\n"
   ]
  },
  {
   "cell_type": "code",
   "execution_count": 7,
   "metadata": {
    "colab": {
     "base_uri": "https://localhost:8080/"
    },
    "id": "2tRp3j2pz6zN",
    "outputId": "13c4673c-8059-4c75-96b9-4c17ef9f499c"
   },
   "outputs": [
    {
     "name": "stdout",
     "output_type": "stream",
     "text": [
      "    Unnamed: 0  Unnamed: 1                           Unnamed: 2     Total  \\\n",
      "0       ENEMDU  12/01/2007                      Población Total  13682302   \n",
      "1       ENEMDU  12/01/2007           Población menor de 15 años   4372812   \n",
      "2       ENEMDU  12/01/2007  Población en Edad de Trabajar (PET)   9309490   \n",
      "3       ENEMDU  12/01/2007      Población Económicamente Activa   6336029   \n",
      "4       ENEMDU  12/01/2007                               Empleo   6019332   \n",
      "..         ...         ...                                  ...       ...   \n",
      "895    ENEMDU*  10/01/2021                    Desempleo Abierto    336101   \n",
      "896    ENEMDU*  10/01/2021                     Desempleo Oculto     48103   \n",
      "897    ENEMDU*  10/01/2021                    Desempleo Cesante    298846   \n",
      "898    ENEMDU*  10/01/2021                      Desempleo Nuevo     85358   \n",
      "899    ENEMDU*  10/01/2021    Población Económicamente Inactiva   4330241   \n",
      "\n",
      "      Urbana    Rural   Hombre    Mujer  \n",
      "0    9066209  4616093  6768646  6913656  \n",
      "1    2723124  1649688  2226618  2146194  \n",
      "2    6343085  2966404  4542028  4767462  \n",
      "3    4227702  2108328  3777232  2558798  \n",
      "4    3971040  2048292  3632314  2387018  \n",
      "..       ...      ...      ...      ...  \n",
      "895   291606    44495   150276   185824  \n",
      "896    27600    20503    25975    22128  \n",
      "897   257856    40991   140223   158623  \n",
      "898    61351    24007    36028    49330  \n",
      "899  3307420  1022821  1324745  3005495  \n",
      "\n",
      "[900 rows x 8 columns]\n"
     ]
    }
   ],
   "source": [
    "#Trabajar con otro tipo de datos Fifa\n",
    "#Previamente ralizar la conexion con drive!!!!11\n",
    "pob = pd.read_csv(\"D:/UPS_DECIMO/SIMULACION/1.PoblacionesPedro.csv\",skiprows=2, low_memory=False,encoding= 'latin1')\n",
    "#imprimir los primeros 5 datos del archivo\n",
    "#pob.head()\n",
    "print(pob)"
   ]
  },
  {
   "cell_type": "markdown",
   "metadata": {
    "id": "QmmbVrFMC773"
   },
   "source": [
    "##FIltración de datos\n",
    "Al analizar los datos podemos darnos cuenta que existe una columna con el total de la población empleo y desempleo, de modo que porcedos a filtrar las filas que contienen esa etiqueta\n"
   ]
  },
  {
   "cell_type": "code",
   "execution_count": 8,
   "metadata": {
    "id": "pmNLNUWnRNgD"
   },
   "outputs": [],
   "source": [
    "empleo=pob.loc[ (pob['Unnamed: 2']) == 'Empleo']\n",
    "desempleo=pob.loc[ (pob['Unnamed: 2']) == 'Desempleo']#(pob['Unnamed: 2'] == 'Empleo')\n",
    "#newData.head()\n",
    "#empleo.head()\n"
   ]
  },
  {
   "cell_type": "markdown",
   "metadata": {
    "id": "0P6TZButD3h7"
   },
   "source": [
    "##Funciones\n",
    "Para una mejor optimizacion del Codigo vamos a realizar una función que extrae solamente el año y lo adiciona en una nueva columna del dataframe\n"
   ]
  },
  {
   "cell_type": "code",
   "execution_count": 9,
   "metadata": {
    "colab": {
     "base_uri": "https://localhost:8080/",
     "height": 484
    },
    "id": "D3s6B3F5ioip",
    "outputId": "9f0f3b2d-f1b8-4c8e-b4e2-7264306c9a25"
   },
   "outputs": [
    {
     "name": "stderr",
     "output_type": "stream",
     "text": [
      "<ipython-input-9-2a9d3d56c681>:4: SettingWithCopyWarning: \n",
      "A value is trying to be set on a copy of a slice from a DataFrame.\n",
      "Try using .loc[row_indexer,col_indexer] = value instead\n",
      "\n",
      "See the caveats in the documentation: https://pandas.pydata.org/pandas-docs/stable/user_guide/indexing.html#returning-a-view-versus-a-copy\n",
      "  empleo[\"Anios\"]=empleo.apply(lambda x: extractYear(x[1]), axis=1)\n",
      "<ipython-input-9-2a9d3d56c681>:5: SettingWithCopyWarning: \n",
      "A value is trying to be set on a copy of a slice from a DataFrame.\n",
      "Try using .loc[row_indexer,col_indexer] = value instead\n",
      "\n",
      "See the caveats in the documentation: https://pandas.pydata.org/pandas-docs/stable/user_guide/indexing.html#returning-a-view-versus-a-copy\n",
      "  desempleo[\"Anios\"]=desempleo.apply(lambda x: extractYear(x[1]), axis=1)\n"
     ]
    },
    {
     "data": {
      "text/html": [
       "<div>\n",
       "<style scoped>\n",
       "    .dataframe tbody tr th:only-of-type {\n",
       "        vertical-align: middle;\n",
       "    }\n",
       "\n",
       "    .dataframe tbody tr th {\n",
       "        vertical-align: top;\n",
       "    }\n",
       "\n",
       "    .dataframe thead th {\n",
       "        text-align: right;\n",
       "    }\n",
       "</style>\n",
       "<table border=\"1\" class=\"dataframe\">\n",
       "  <thead>\n",
       "    <tr style=\"text-align: right;\">\n",
       "      <th></th>\n",
       "      <th>Unnamed: 0</th>\n",
       "      <th>Unnamed: 1</th>\n",
       "      <th>Unnamed: 2</th>\n",
       "      <th>Total</th>\n",
       "      <th>Urbana</th>\n",
       "      <th>Rural</th>\n",
       "      <th>Hombre</th>\n",
       "      <th>Mujer</th>\n",
       "      <th>Anios</th>\n",
       "    </tr>\n",
       "  </thead>\n",
       "  <tbody>\n",
       "    <tr>\n",
       "      <th>12</th>\n",
       "      <td>ENEMDU</td>\n",
       "      <td>12/01/2007</td>\n",
       "      <td>Desempleo</td>\n",
       "      <td>316697</td>\n",
       "      <td>256662</td>\n",
       "      <td>60036</td>\n",
       "      <td>144918</td>\n",
       "      <td>171780</td>\n",
       "      <td>2007</td>\n",
       "    </tr>\n",
       "    <tr>\n",
       "      <th>30</th>\n",
       "      <td>ENEMDU</td>\n",
       "      <td>06/01/2008</td>\n",
       "      <td>Desempleo</td>\n",
       "      <td>344143</td>\n",
       "      <td>282489</td>\n",
       "      <td>61654</td>\n",
       "      <td>151283</td>\n",
       "      <td>192860</td>\n",
       "      <td>2008</td>\n",
       "    </tr>\n",
       "    <tr>\n",
       "      <th>48</th>\n",
       "      <td>ENEMDU</td>\n",
       "      <td>12/01/2008</td>\n",
       "      <td>Desempleo</td>\n",
       "      <td>380026</td>\n",
       "      <td>317011</td>\n",
       "      <td>63015</td>\n",
       "      <td>165296</td>\n",
       "      <td>214730</td>\n",
       "      <td>2008</td>\n",
       "    </tr>\n",
       "    <tr>\n",
       "      <th>66</th>\n",
       "      <td>ENEMDU</td>\n",
       "      <td>12/01/2009</td>\n",
       "      <td>Desempleo</td>\n",
       "      <td>423802</td>\n",
       "      <td>347068</td>\n",
       "      <td>76734</td>\n",
       "      <td>201625</td>\n",
       "      <td>222177</td>\n",
       "      <td>2009</td>\n",
       "    </tr>\n",
       "    <tr>\n",
       "      <th>84</th>\n",
       "      <td>ENEMDU</td>\n",
       "      <td>06/01/2010</td>\n",
       "      <td>Desempleo</td>\n",
       "      <td>408318</td>\n",
       "      <td>338652</td>\n",
       "      <td>69666</td>\n",
       "      <td>194691</td>\n",
       "      <td>213628</td>\n",
       "      <td>2010</td>\n",
       "    </tr>\n",
       "  </tbody>\n",
       "</table>\n",
       "</div>"
      ],
      "text/plain": [
       "   Unnamed: 0  Unnamed: 1 Unnamed: 2   Total  Urbana  Rural  Hombre   Mujer  \\\n",
       "12     ENEMDU  12/01/2007  Desempleo  316697  256662  60036  144918  171780   \n",
       "30     ENEMDU  06/01/2008  Desempleo  344143  282489  61654  151283  192860   \n",
       "48     ENEMDU  12/01/2008  Desempleo  380026  317011  63015  165296  214730   \n",
       "66     ENEMDU  12/01/2009  Desempleo  423802  347068  76734  201625  222177   \n",
       "84     ENEMDU  06/01/2010  Desempleo  408318  338652  69666  194691  213628   \n",
       "\n",
       "   Anios  \n",
       "12  2007  \n",
       "30  2008  \n",
       "48  2008  \n",
       "66  2009  \n",
       "84  2010  "
      ]
     },
     "execution_count": 9,
     "metadata": {},
     "output_type": "execute_result"
    }
   ],
   "source": [
    "def extractYear(anio):\n",
    "  return str(anio).split(\"/\")[2]\n",
    "\n",
    "empleo[\"Anios\"]=empleo.apply(lambda x: extractYear(x[1]), axis=1)\n",
    "desempleo[\"Anios\"]=desempleo.apply(lambda x: extractYear(x[1]), axis=1)\n",
    "\n",
    "desempleo.head()\n"
   ]
  },
  {
   "cell_type": "markdown",
   "metadata": {
    "id": "ax8DlqNoD-Kb"
   },
   "source": [
    "Procedemos a extraer los años en donde se registraron estas cifras"
   ]
  },
  {
   "cell_type": "code",
   "execution_count": 10,
   "metadata": {
    "colab": {
     "base_uri": "https://localhost:8080/"
    },
    "id": "VZbSgw5zJYuN",
    "outputId": "09f17f2b-c4b2-4657-9222-23d91cd62c58"
   },
   "outputs": [
    {
     "name": "stdout",
     "output_type": "stream",
     "text": [
      "['2007' '2008' '2009' '2010' '2011' '2012' '2013' '2014' '2015' '2016'\n",
      " '2017' '2018' '2019' '2020' '2021']\n"
     ]
    }
   ],
   "source": [
    "colum_anios_empleo=empleo.iloc[:,-1]\n",
    "colum_anios_empleo=colum_anios_empleo.unique()\n",
    "print(colum_anios_empleo)"
   ]
  },
  {
   "cell_type": "markdown",
   "metadata": {
    "id": "ZGLHIkqUEOhz"
   },
   "source": [
    "##Funcion\n",
    "Programamos una función que nos permite hacer  una búsqueda en los registros del dataset y posteriormente sería llamada desde una función lambda"
   ]
  },
  {
   "cell_type": "code",
   "execution_count": 11,
   "metadata": {
    "id": "qiXCRgdEUO5i"
   },
   "outputs": [],
   "source": [
    "\n",
    "def search_value_desemp(param,key,val):\n",
    "  if param==key:\n",
    "    return val    "
   ]
  },
  {
   "cell_type": "markdown",
   "metadata": {
    "id": "v9MV1wbjEpiC"
   },
   "source": [
    "##Búsqueda\n",
    "Procedemos ha realizar la búsqueda en función de todos los años, tanto en el dataframe de empleo y del de desempleo de paso procedemos a realizar un promedio en base a los datos porque existen cifras por cada mes reduciendo la información a intervalos por año\n"
   ]
  },
  {
   "cell_type": "code",
   "execution_count": 12,
   "metadata": {
    "colab": {
     "base_uri": "https://localhost:8080/"
    },
    "id": "TGPjppHaQM9v",
    "outputId": "d6dc4110-a0bd-443c-dcf2-0f804884d208"
   },
   "outputs": [
    {
     "name": "stdout",
     "output_type": "stream",
     "text": [
      "{'2007': 6019332.0, '2008': 6125310.0, '2009': 6125135.0, '2010': 6143685.5, '2011': 6264709.0, '2012': 6506555.5, '2013': 6695018.0, '2014': 6784413.75, '2015': 7151139.25, '2016': 7482333.75, '2017': 7766294.0, '2018': 7778951.0, '2019': 7853174.75, '2020': 7673343.25, '2021': 7917790.1}\n",
      "{'2007': 316697.0, '2008': 362084.5, '2009': 423802.0, '2010': 365672.5, '2011': 302996.0, '2012': 279372.5, '2013': 281348.0, '2014': 304555.0, '2015': 324618.0, '2016': 423871.75, '2017': 358466.5, '2018': 330265.75, '2019': 365105.75, '2020': 456457.5, '2021': 431402.7}\n"
     ]
    }
   ],
   "source": [
    "##Creacion de diccionarios y busqueda de datos\n",
    "list_vals_emp_anio=[]\n",
    "list_vals_desemp_anio=[]\n",
    "dic_empleo={}\n",
    "dic_desempleo={}\n",
    "\n",
    "for i in colum_anios_empleo:\n",
    "  dfT=empleo.apply(lambda x:search_value_desemp(i,x[8],x[3]),axis=1)\n",
    "  dfT=dfT.dropna()\n",
    "  dic_empleo.setdefault(i,dfT.mean())\n",
    "\n",
    "for i in colum_anios_empleo:\n",
    "  dfT=desempleo.apply(lambda x:search_value_desemp(i,x[8],x[3]),axis=1)\n",
    "  dfT=dfT.dropna()\n",
    "  dic_desempleo.setdefault(i,dfT.mean())\n",
    "\n",
    "print(dic_empleo)  \n",
    "print(dic_desempleo)  \n"
   ]
  },
  {
   "cell_type": "markdown",
   "metadata": {
    "id": "3KjsOniCFY9u"
   },
   "source": [
    "##Dataframe final \n",
    "Como en la sección anterior se obtuvieron diccionarios que contenían los años y los valores por cada año ahora simplemente los juntamos en un solo dataset.\n"
   ]
  },
  {
   "cell_type": "code",
   "execution_count": 13,
   "metadata": {
    "colab": {
     "base_uri": "https://localhost:8080/",
     "height": 206
    },
    "id": "GPJc0I5G1AMt",
    "outputId": "fbb1d815-93a4-4a0a-fa5f-8edbbada0624"
   },
   "outputs": [
    {
     "data": {
      "text/html": [
       "<div>\n",
       "<style scoped>\n",
       "    .dataframe tbody tr th:only-of-type {\n",
       "        vertical-align: middle;\n",
       "    }\n",
       "\n",
       "    .dataframe tbody tr th {\n",
       "        vertical-align: top;\n",
       "    }\n",
       "\n",
       "    .dataframe thead th {\n",
       "        text-align: right;\n",
       "    }\n",
       "</style>\n",
       "<table border=\"1\" class=\"dataframe\">\n",
       "  <thead>\n",
       "    <tr style=\"text-align: right;\">\n",
       "      <th></th>\n",
       "      <th>Años</th>\n",
       "      <th>Empleo</th>\n",
       "      <th>Desempleo</th>\n",
       "    </tr>\n",
       "  </thead>\n",
       "  <tbody>\n",
       "    <tr>\n",
       "      <th>0</th>\n",
       "      <td>2007</td>\n",
       "      <td>6019332.0</td>\n",
       "      <td>316697.0</td>\n",
       "    </tr>\n",
       "    <tr>\n",
       "      <th>1</th>\n",
       "      <td>2008</td>\n",
       "      <td>6125310.0</td>\n",
       "      <td>362084.5</td>\n",
       "    </tr>\n",
       "    <tr>\n",
       "      <th>2</th>\n",
       "      <td>2009</td>\n",
       "      <td>6125135.0</td>\n",
       "      <td>423802.0</td>\n",
       "    </tr>\n",
       "    <tr>\n",
       "      <th>3</th>\n",
       "      <td>2010</td>\n",
       "      <td>6143685.5</td>\n",
       "      <td>365672.5</td>\n",
       "    </tr>\n",
       "    <tr>\n",
       "      <th>4</th>\n",
       "      <td>2011</td>\n",
       "      <td>6264709.0</td>\n",
       "      <td>302996.0</td>\n",
       "    </tr>\n",
       "  </tbody>\n",
       "</table>\n",
       "</div>"
      ],
      "text/plain": [
       "   Años     Empleo  Desempleo\n",
       "0  2007  6019332.0   316697.0\n",
       "1  2008  6125310.0   362084.5\n",
       "2  2009  6125135.0   423802.0\n",
       "3  2010  6143685.5   365672.5\n",
       "4  2011  6264709.0   302996.0"
      ]
     },
     "execution_count": 13,
     "metadata": {},
     "output_type": "execute_result"
    }
   ],
   "source": [
    "empleo=pd.DataFrame(dic_empleo.items())\n",
    "empleo.columns=['Años','Empleo']\n",
    "\n",
    "desempleo=pd.DataFrame(dic_desempleo.items())\n",
    "desempleo.columns=['Años','Desempleo']\n",
    "\n",
    "empleo[\"Desempleo\"]=desempleo.iloc[:,-1]\n",
    "empleo.head()"
   ]
  },
  {
   "cell_type": "markdown",
   "metadata": {
    "id": "aOIXK2iiF2zW"
   },
   "source": [
    "##Graficamos los resultados del Desempleo"
   ]
  },
  {
   "cell_type": "code",
   "execution_count": 14,
   "metadata": {
    "colab": {
     "base_uri": "https://localhost:8080/",
     "height": 290
    },
    "id": "6hWiKtiwNx1D",
    "outputId": "9022b1e2-1a63-4e12-8a6c-fefac490db4e"
   },
   "outputs": [
    {
     "data": {
      "image/png": "[encoded data removed]",
      "text/plain": [
       "<Figure size 432x288 with 1 Axes>"
      ]
     },
     "metadata": {
      "needs_background": "light"
     },
     "output_type": "display_data"
    }
   ],
   "source": [
    "fig, ax = plt.subplots()\n",
    "empleo.plot(x = 'Años', y = 'Empleo', ax = ax)\n",
    "empleo.plot(x = 'Años', y = 'Desempleo', ax = ax)\n",
    "plt.show()"
   ]
  },
  {
   "cell_type": "markdown",
   "metadata": {
    "id": "dPuFhoQ1aLOj"
   },
   "source": [
    "##Generar gráfica tipo PIE según la sectorización de empleo en función de años\n",
    "Procedemos a cargar el dataset y preprocesados haciendo un transpose a los datos para un mejor manejo para que se mapean los datos de mejor manera procedemos a guardarlos \n"
   ]
  },
  {
   "cell_type": "code",
   "execution_count": 15,
   "metadata": {
    "id": "fPK4maLS-5dg"
   },
   "outputs": [],
   "source": [
    "#!ls drive/MyDrive/DataPrueba\n",
    "secto= pd.read_csv(\"D:/UPS_DECIMO/SIMULACION/Sectoriza.csv\",skiprows=0, low_memory=False,encoding= 'latin1')\n",
    "secto=secto.iloc[0:5]\n",
    "secto=secto.transpose()\n",
    "secto.columns=secto.iloc[1]\n",
    "secto=secto.iloc[2:]\n",
    "secto.head()\n",
    "secto.to_csv('D:/UPS_DECIMO/SIMULACION/asdk.csv',encoding= 'latin1')"
   ]
  },
  {
   "cell_type": "code",
   "execution_count": 16,
   "metadata": {
    "colab": {
     "base_uri": "https://localhost:8080/",
     "height": 206
    },
    "id": "C4f4QhieQV8A",
    "outputId": "a0e834e9-566d-47af-cf70-48aba623c962"
   },
   "outputs": [
    {
     "data": {
      "text/html": [
       "<div>\n",
       "<style scoped>\n",
       "    .dataframe tbody tr th:only-of-type {\n",
       "        vertical-align: middle;\n",
       "    }\n",
       "\n",
       "    .dataframe tbody tr th {\n",
       "        vertical-align: top;\n",
       "    }\n",
       "\n",
       "    .dataframe thead th {\n",
       "        text-align: right;\n",
       "    }\n",
       "</style>\n",
       "<table border=\"1\" class=\"dataframe\">\n",
       "  <thead>\n",
       "    <tr style=\"text-align: right;\">\n",
       "      <th></th>\n",
       "      <th>Unnamed: 0</th>\n",
       "      <th>Unnamed: 1</th>\n",
       "      <th>Sector Formal</th>\n",
       "      <th>Sector Informal</th>\n",
       "      <th>Empleo Doméstico</th>\n",
       "      <th>No Clasificados por Sector</th>\n",
       "    </tr>\n",
       "  </thead>\n",
       "  <tbody>\n",
       "    <tr>\n",
       "      <th>0</th>\n",
       "      <td>Unnamed: 2</td>\n",
       "      <td>06/01/2007</td>\n",
       "      <td>-</td>\n",
       "      <td>-</td>\n",
       "      <td>-</td>\n",
       "      <td>-</td>\n",
       "    </tr>\n",
       "    <tr>\n",
       "      <th>1</th>\n",
       "      <td>Unnamed: 3</td>\n",
       "      <td>09/01/2007</td>\n",
       "      <td>-</td>\n",
       "      <td>-</td>\n",
       "      <td>-</td>\n",
       "      <td>-</td>\n",
       "    </tr>\n",
       "    <tr>\n",
       "      <th>2</th>\n",
       "      <td>Unnamed: 4</td>\n",
       "      <td>12/01/2007</td>\n",
       "      <td>41%</td>\n",
       "      <td>45.1%</td>\n",
       "      <td>3.3%</td>\n",
       "      <td>10.6%</td>\n",
       "    </tr>\n",
       "    <tr>\n",
       "      <th>3</th>\n",
       "      <td>Unnamed: 5</td>\n",
       "      <td>03/01/2008</td>\n",
       "      <td>-</td>\n",
       "      <td>-</td>\n",
       "      <td>-</td>\n",
       "      <td>-</td>\n",
       "    </tr>\n",
       "    <tr>\n",
       "      <th>4</th>\n",
       "      <td>Unnamed: 6</td>\n",
       "      <td>06/01/2008</td>\n",
       "      <td>42.5%</td>\n",
       "      <td>45.4%</td>\n",
       "      <td>3.3%</td>\n",
       "      <td>8.8%</td>\n",
       "    </tr>\n",
       "  </tbody>\n",
       "</table>\n",
       "</div>"
      ],
      "text/plain": [
       "   Unnamed: 0  Unnamed: 1 Sector Formal Sector Informal Empleo Doméstico  \\\n",
       "0  Unnamed: 2  06/01/2007             -               -                -   \n",
       "1  Unnamed: 3  09/01/2007             -               -                -   \n",
       "2  Unnamed: 4  12/01/2007           41%           45.1%             3.3%   \n",
       "3  Unnamed: 5  03/01/2008             -               -                -   \n",
       "4  Unnamed: 6  06/01/2008         42.5%           45.4%             3.3%   \n",
       "\n",
       "  No Clasificados por Sector  \n",
       "0                          -  \n",
       "1                          -  \n",
       "2                      10.6%  \n",
       "3                          -  \n",
       "4                       8.8%  "
      ]
     },
     "execution_count": 16,
     "metadata": {},
     "output_type": "execute_result"
    }
   ],
   "source": [
    "secto= pd.read_csv(\"D:/UPS_DECIMO/SIMULACION/asdk.csv\",skiprows=0, low_memory=False,encoding= 'latin1')\n",
    "secto.head()"
   ]
  },
  {
   "cell_type": "markdown",
   "metadata": {
    "id": "E6OUmTW2bGVD"
   },
   "source": [
    "##Funciones\n",
    "Para una mejor optimizacion del Codigo vamos a realizar una función que extrae solamente el año y lo adiciona en una nueva columna del dataframe\n",
    "\n",
    "Procedemos a extraer los años en donde se registraron estas cifras\n"
   ]
  },
  {
   "cell_type": "code",
   "execution_count": 17,
   "metadata": {
    "colab": {
     "base_uri": "https://localhost:8080/",
     "height": 206
    },
    "id": "YNWXAtP0Vbe7",
    "outputId": "b13ddaec-7a4b-406d-b89d-94a5165287b3"
   },
   "outputs": [
    {
     "data": {
      "text/html": [
       "<div>\n",
       "<style scoped>\n",
       "    .dataframe tbody tr th:only-of-type {\n",
       "        vertical-align: middle;\n",
       "    }\n",
       "\n",
       "    .dataframe tbody tr th {\n",
       "        vertical-align: top;\n",
       "    }\n",
       "\n",
       "    .dataframe thead th {\n",
       "        text-align: right;\n",
       "    }\n",
       "</style>\n",
       "<table border=\"1\" class=\"dataframe\">\n",
       "  <thead>\n",
       "    <tr style=\"text-align: right;\">\n",
       "      <th></th>\n",
       "      <th>Unnamed: 0</th>\n",
       "      <th>Unnamed: 1</th>\n",
       "      <th>Sector Formal</th>\n",
       "      <th>Sector Informal</th>\n",
       "      <th>Empleo Doméstico</th>\n",
       "      <th>No Clasificados por Sector</th>\n",
       "      <th>Anios</th>\n",
       "    </tr>\n",
       "  </thead>\n",
       "  <tbody>\n",
       "    <tr>\n",
       "      <th>0</th>\n",
       "      <td>Unnamed: 2</td>\n",
       "      <td>06/01/2007</td>\n",
       "      <td>-</td>\n",
       "      <td>-</td>\n",
       "      <td>-</td>\n",
       "      <td>-</td>\n",
       "      <td>2007</td>\n",
       "    </tr>\n",
       "    <tr>\n",
       "      <th>1</th>\n",
       "      <td>Unnamed: 3</td>\n",
       "      <td>09/01/2007</td>\n",
       "      <td>-</td>\n",
       "      <td>-</td>\n",
       "      <td>-</td>\n",
       "      <td>-</td>\n",
       "      <td>2007</td>\n",
       "    </tr>\n",
       "    <tr>\n",
       "      <th>2</th>\n",
       "      <td>Unnamed: 4</td>\n",
       "      <td>12/01/2007</td>\n",
       "      <td>41%</td>\n",
       "      <td>45.1%</td>\n",
       "      <td>3.3%</td>\n",
       "      <td>10.6%</td>\n",
       "      <td>2007</td>\n",
       "    </tr>\n",
       "    <tr>\n",
       "      <th>3</th>\n",
       "      <td>Unnamed: 5</td>\n",
       "      <td>03/01/2008</td>\n",
       "      <td>-</td>\n",
       "      <td>-</td>\n",
       "      <td>-</td>\n",
       "      <td>-</td>\n",
       "      <td>2008</td>\n",
       "    </tr>\n",
       "    <tr>\n",
       "      <th>4</th>\n",
       "      <td>Unnamed: 6</td>\n",
       "      <td>06/01/2008</td>\n",
       "      <td>42.5%</td>\n",
       "      <td>45.4%</td>\n",
       "      <td>3.3%</td>\n",
       "      <td>8.8%</td>\n",
       "      <td>2008</td>\n",
       "    </tr>\n",
       "  </tbody>\n",
       "</table>\n",
       "</div>"
      ],
      "text/plain": [
       "   Unnamed: 0  Unnamed: 1 Sector Formal Sector Informal Empleo Doméstico  \\\n",
       "0  Unnamed: 2  06/01/2007             -               -                -   \n",
       "1  Unnamed: 3  09/01/2007             -               -                -   \n",
       "2  Unnamed: 4  12/01/2007           41%           45.1%             3.3%   \n",
       "3  Unnamed: 5  03/01/2008             -               -                -   \n",
       "4  Unnamed: 6  06/01/2008         42.5%           45.4%             3.3%   \n",
       "\n",
       "  No Clasificados por Sector Anios  \n",
       "0                          -  2007  \n",
       "1                          -  2007  \n",
       "2                      10.6%  2007  \n",
       "3                          -  2008  \n",
       "4                       8.8%  2008  "
      ]
     },
     "execution_count": 17,
     "metadata": {},
     "output_type": "execute_result"
    }
   ],
   "source": [
    "secto[\"Anios\"]=secto.apply(lambda x: extractYear(x[1]), axis=1)\n",
    "secto.head()"
   ]
  },
  {
   "cell_type": "markdown",
   "metadata": {
    "id": "xOEoYZegbWYb"
   },
   "source": [
    "##Funcion\n",
    "Programamos una función que nos permite hacer  una búsqueda en los registros del dataset y posteriormente sería llamada desde una función lambda"
   ]
  },
  {
   "cell_type": "code",
   "execution_count": 18,
   "metadata": {
    "id": "UQrvegL3WYoi"
   },
   "outputs": [],
   "source": [
    "def search_value_sec(param,key,secF,secIn,empD,noClass):\n",
    "  if param==key:\n",
    "    return float(secF.strip('%')),float(secIn.strip('%')),float(empD.strip('%')),float(noClass.strip('%')),key  \n"
   ]
  },
  {
   "cell_type": "markdown",
   "metadata": {
    "id": "WO1KTj_6bYui"
   },
   "source": [
    "##Funcion\n",
    "Esta función se encarga de recibir un rango de años para luego obtener un reporte de cifras y consiguiente la graficación de los datos finalmente retorna un dataset con la informacion requerida\n"
   ]
  },
  {
   "cell_type": "code",
   "execution_count": 19,
   "metadata": {
    "id": "loXIS9ygfHT-"
   },
   "outputs": [],
   "source": [
    "def sectorizacion(rang1,rang2):\n",
    "  dfF=pd.DataFrame()\n",
    "  for i in range(rang1,rang2):\n",
    "    dfT=secto.apply(lambda x: search_value_sec(str(i),x[6],x[2],x[3],x[4],x[5]),axis=1)\n",
    "    dfT=dfT.dropna()\n",
    "    dfT=dfT.to_frame()\n",
    "    dfT.columns=['one']\n",
    "    dfT=pd.DataFrame(dfT['one'].values.tolist())\n",
    "    dfT.columns=['Sector Formal'\t,'Sector Informal'\t,'Empleo Doméstico',\t'No Clasificados por Sector',\t'Anios']\n",
    "    dfTMean=dfT.describe().iloc[1:2]\n",
    "    dfTMean['Anios']=i\n",
    "    dfF=pd.concat([dfF,dfTMean],axis=0)\n",
    "    #dfF=pd.concat([dfF,dfT],axis=0)\n",
    "\n",
    "\n",
    "    #dfT=pd.DataFrame(,columns=['Sector Formal'\t,'Sector Informal'\t,'Empleo Doméstico',\t'No Clasificados por Sector'])\n",
    "    \n",
    "    \n",
    "    #dfF=pd.concat([dfF,dfT])\n",
    "  dfF=dfF.transpose()  \n",
    "  dfF.columns=dfF.iloc[-1]\n",
    "  dfF=dfF.iloc[:-1]\n",
    "  dfF.to_csv('D:/UPS_DECIMO/SIMULACION/graficasPie.csv',encoding= 'latin1')\n",
    "  dfF= pd.read_csv(\"D:/UPS_DECIMO/SIMULACION/graficasPie.csv\",skiprows=0, low_memory=False,encoding= 'latin1')\n",
    "  dfF.set_index('Unnamed: 0',inplace = True)\n",
    "  \n",
    "  return dfF\n"
   ]
  },
  {
   "cell_type": "markdown",
   "metadata": {
    "id": "P9fek9bwb5wK"
   },
   "source": [
    "##Funcion \n",
    "Nos permite graficar los pie en función de los mismos rangos ingresados en la función anterior\n"
   ]
  },
  {
   "cell_type": "code",
   "execution_count": 20,
   "metadata": {
    "id": "xjIip6UKQo4i"
   },
   "outputs": [],
   "source": [
    "def graficar(dataF,rang1,rang2):\n",
    "  for i in range(rang1,rang2):\n",
    "    dataF.plot.pie(y=str(i)+\".0\", figsize=(5, 5))\n"
   ]
  },
  {
   "cell_type": "markdown",
   "metadata": {
    "id": "tsWYvVXrcL2Q"
   },
   "source": [
    "##Información"
   ]
  },
  {
   "cell_type": "code",
   "execution_count": null,
   "metadata": {
    "tags": [
     "parameters"
    ]
   },
   "outputs": [],
   "source": [
    "#2017 2022\n",
    "rango1=''\n",
    "rango2=''\n"
   ]
  },
  {
   "cell_type": "code",
   "execution_count": null,
   "metadata": {},
   "outputs": [],
   "source": [
    "rango1=int(rango1)\n",
    "rango2=int(rango2)"
   ]
  },
  {
   "cell_type": "code",
   "execution_count": 22,
   "metadata": {
    "colab": {
     "base_uri": "https://localhost:8080/",
     "height": 1000
    },
    "id": "bx_WML-NXDFC",
    "outputId": "4603f59b-cf73-4c46-a9ca-84d368fa3c60"
   },
   "outputs": [
    {
     "ename": "ValueError",
     "evalue": "invalid literal for int() with base 10: ''",
     "output_type": "error",
     "traceback": [
      "\u001b[1;31m---------------------------------------------------------------------------\u001b[0m",
      "\u001b[1;31mValueError\u001b[0m                                Traceback (most recent call last)",
      "\u001b[1;32m<ipython-input-22-5c4976c7ae3b>\u001b[0m in \u001b[0;36m<module>\u001b[1;34m\u001b[0m\n\u001b[0;32m      2\u001b[0m \u001b[0mrango1\u001b[0m\u001b[1;33m=\u001b[0m\u001b[1;34m''\u001b[0m\u001b[1;33m\u001b[0m\u001b[1;33m\u001b[0m\u001b[0m\n\u001b[0;32m      3\u001b[0m \u001b[0mrango2\u001b[0m\u001b[1;33m=\u001b[0m\u001b[1;34m''\u001b[0m\u001b[1;33m\u001b[0m\u001b[1;33m\u001b[0m\u001b[0m\n\u001b[1;32m----> 4\u001b[1;33m \u001b[0mrango1\u001b[0m\u001b[1;33m=\u001b[0m\u001b[0mint\u001b[0m\u001b[1;33m(\u001b[0m\u001b[0mrango1\u001b[0m\u001b[1;33m)\u001b[0m\u001b[1;33m\u001b[0m\u001b[1;33m\u001b[0m\u001b[0m\n\u001b[0m\u001b[0;32m      5\u001b[0m \u001b[0mrango2\u001b[0m\u001b[1;33m=\u001b[0m\u001b[0mint\u001b[0m\u001b[1;33m(\u001b[0m\u001b[0mrango2\u001b[0m\u001b[1;33m)\u001b[0m\u001b[1;33m\u001b[0m\u001b[1;33m\u001b[0m\u001b[0m\n\u001b[0;32m      6\u001b[0m \u001b[1;33m\u001b[0m\u001b[0m\n",
      "\u001b[1;31mValueError\u001b[0m: invalid literal for int() with base 10: ''"
     ]
    }
   ],
   "source": [
    "dataSecto=sectorizacion(rango1,rango2)\n",
    "graficar(dataSecto,rango1,rango2)\n",
    "dataSecto.head()"
   ]
  },
  {
   "cell_type": "markdown",
   "metadata": {
    "id": "qOBmFAwBKl1x"
   },
   "source": [
    "##Generar histogramas subempleo, empleo pleno y empleo no pleno por año\n",
    "Procedemos a extraer la información necesaria para resolver el enunciado, dicha información está disponible en el dataset de población "
   ]
  },
  {
   "cell_type": "code",
   "execution_count": 34,
   "metadata": {
    "id": "pcEdSvXuKpxD"
   },
   "outputs": [],
   "source": [
    "subempleo=pob.loc[ (pob['Unnamed: 2']) == 'Subempleo']\n",
    "pleno=pob.loc[ (pob['Unnamed: 2']) == 'Empleo Adecuado/Pleno']#Empleo Adecuado/Pleno, Otro Empleo no pleno\n",
    "no_pleno=pob.loc[ (pob['Unnamed: 2']) == 'Otro Empleo no pleno']"
   ]
  },
  {
   "cell_type": "markdown",
   "metadata": {
    "id": "s_DrkdKtdCv9"
   },
   "source": [
    "##Funciones\n",
    "Para una mejor optimizacion del Codigo vamos a realizar una función que extrae solamente el año y lo adiciona en una nueva columna del dataframe\n",
    "\n",
    "Procedemos a extraer los años en donde se registraron estas cifras\n"
   ]
  },
  {
   "cell_type": "code",
   "execution_count": 35,
   "metadata": {
    "id": "aJeiZCHoK288"
   },
   "outputs": [
    {
     "name": "stderr",
     "output_type": "stream",
     "text": [
      "<ipython-input-35-0df9a81e57ea>:1: SettingWithCopyWarning: \n",
      "A value is trying to be set on a copy of a slice from a DataFrame.\n",
      "Try using .loc[row_indexer,col_indexer] = value instead\n",
      "\n",
      "See the caveats in the documentation: https://pandas.pydata.org/pandas-docs/stable/user_guide/indexing.html#returning-a-view-versus-a-copy\n",
      "  subempleo[\"Anios\"]=subempleo.apply(lambda x: extractYear(x[1]), axis=1)\n",
      "<ipython-input-35-0df9a81e57ea>:2: SettingWithCopyWarning: \n",
      "A value is trying to be set on a copy of a slice from a DataFrame.\n",
      "Try using .loc[row_indexer,col_indexer] = value instead\n",
      "\n",
      "See the caveats in the documentation: https://pandas.pydata.org/pandas-docs/stable/user_guide/indexing.html#returning-a-view-versus-a-copy\n",
      "  pleno[\"Anios\"]=pleno.apply(lambda x: extractYear(x[1]), axis=1)\n",
      "<ipython-input-35-0df9a81e57ea>:3: SettingWithCopyWarning: \n",
      "A value is trying to be set on a copy of a slice from a DataFrame.\n",
      "Try using .loc[row_indexer,col_indexer] = value instead\n",
      "\n",
      "See the caveats in the documentation: https://pandas.pydata.org/pandas-docs/stable/user_guide/indexing.html#returning-a-view-versus-a-copy\n",
      "  no_pleno[\"Anios\"]=no_pleno.apply(lambda x: extractYear(x[1]), axis=1)\n"
     ]
    }
   ],
   "source": [
    "subempleo[\"Anios\"]=subempleo.apply(lambda x: extractYear(x[1]), axis=1)\n",
    "pleno[\"Anios\"]=pleno.apply(lambda x: extractYear(x[1]), axis=1)\n",
    "no_pleno[\"Anios\"]=no_pleno.apply(lambda x: extractYear(x[1]), axis=1)"
   ]
  },
  {
   "cell_type": "markdown",
   "metadata": {
    "id": "WvFy5qjCdGoU"
   },
   "source": [
    "Procedemos a concatenar toda la información en un solo dataframe"
   ]
  },
  {
   "cell_type": "code",
   "execution_count": 36,
   "metadata": {
    "colab": {
     "base_uri": "https://localhost:8080/",
     "height": 206
    },
    "id": "rjtjoTvfK5Bc",
    "outputId": "69bc2230-0ef9-45eb-c09c-85121615055f"
   },
   "outputs": [
    {
     "data": {
      "text/html": [
       "<div>\n",
       "<style scoped>\n",
       "    .dataframe tbody tr th:only-of-type {\n",
       "        vertical-align: middle;\n",
       "    }\n",
       "\n",
       "    .dataframe tbody tr th {\n",
       "        vertical-align: top;\n",
       "    }\n",
       "\n",
       "    .dataframe thead th {\n",
       "        text-align: right;\n",
       "    }\n",
       "</style>\n",
       "<table border=\"1\" class=\"dataframe\">\n",
       "  <thead>\n",
       "    <tr style=\"text-align: right;\">\n",
       "      <th></th>\n",
       "      <th>Tipo</th>\n",
       "      <th>Total</th>\n",
       "      <th>Anios</th>\n",
       "    </tr>\n",
       "  </thead>\n",
       "  <tbody>\n",
       "    <tr>\n",
       "      <th>6</th>\n",
       "      <td>Subempleo</td>\n",
       "      <td>1155872</td>\n",
       "      <td>2007</td>\n",
       "    </tr>\n",
       "    <tr>\n",
       "      <th>24</th>\n",
       "      <td>Subempleo</td>\n",
       "      <td>1130699</td>\n",
       "      <td>2008</td>\n",
       "    </tr>\n",
       "    <tr>\n",
       "      <th>42</th>\n",
       "      <td>Subempleo</td>\n",
       "      <td>957978</td>\n",
       "      <td>2008</td>\n",
       "    </tr>\n",
       "    <tr>\n",
       "      <th>60</th>\n",
       "      <td>Subempleo</td>\n",
       "      <td>1071615</td>\n",
       "      <td>2009</td>\n",
       "    </tr>\n",
       "    <tr>\n",
       "      <th>78</th>\n",
       "      <td>Subempleo</td>\n",
       "      <td>1041266</td>\n",
       "      <td>2010</td>\n",
       "    </tr>\n",
       "  </tbody>\n",
       "</table>\n",
       "</div>"
      ],
      "text/plain": [
       "         Tipo    Total Anios\n",
       "6   Subempleo  1155872  2007\n",
       "24  Subempleo  1130699  2008\n",
       "42  Subempleo   957978  2008\n",
       "60  Subempleo  1071615  2009\n",
       "78  Subempleo  1041266  2010"
      ]
     },
     "execution_count": 36,
     "metadata": {},
     "output_type": "execute_result"
    }
   ],
   "source": [
    "dataF_Gegeral=pd.concat([subempleo,pleno,no_pleno],axis=0)\n",
    "dataF_Gegeral=dataF_Gegeral.iloc[:,[2,3,8]]\n",
    "dataF_Gegeral.columns=['Tipo','Total','Anios']\n",
    "dataF_Gegeral.head()"
   ]
  },
  {
   "cell_type": "markdown",
   "metadata": {
    "id": "kYN4zFKSd4Gj"
   },
   "source": [
    "\n",
    "##Búsqueda\n",
    "Procedemos ha realizar la búsqueda en función de todos los años y un palabra clave que  en este caso sería Subempleo  empleo pleno y no pleno tanto en el dataframe de empleo\n",
    "\n"
   ]
  },
  {
   "cell_type": "code",
   "execution_count": 37,
   "metadata": {
    "id": "3DOabpTIK-_P"
   },
   "outputs": [],
   "source": [
    "def search_value(param_anio,param_tipo,key_anio,key_tipo,total):\n",
    "  if param_anio==key_anio and param_tipo== key_tipo:\n",
    "    return param_tipo,total,param_anio"
   ]
  },
  {
   "cell_type": "markdown",
   "metadata": {
    "id": "Xbpy-wiheMEg"
   },
   "source": [
    "##Funcion \n",
    "Esta función general nos permite obtener el data frame que buscamos en función del rango de años y una palabra clave, nos debe retornar la información requerida\n"
   ]
  },
  {
   "cell_type": "code",
   "execution_count": 38,
   "metadata": {
    "id": "xHaMxgg-LB_X"
   },
   "outputs": [],
   "source": [
    "def procesado_sub_pleno_noPleno_empleo(rang1,rang2,tipo):\n",
    "    dfF=pd.DataFrame(columns=['Tipo','Total','Anios'])\n",
    "    #tipo='Subempleo'\n",
    "    for i in range(rang1,rang2):\n",
    "        dfT=dataF_Gegeral.apply(lambda x: search_value(str(i),tipo,x[2],x[0],x[1]),axis=1)\n",
    "        dfT=dfT.dropna()\n",
    "        dfT=dfT.to_frame()\n",
    "        dfT.columns=['one']\n",
    "        dfT=pd.DataFrame(dfT['one'].values.tolist())\n",
    "        dfT.columns=['Tipo','Total','Anios']\n",
    "        dfF=pd.concat([dfF,dfT],axis=0)\n",
    "        #print(dfT)\n",
    "        #break\n",
    "\n",
    "    dfF[['Total']]=dfF[['Total']].astype(int)\n",
    "    #dfF.head()\n",
    "    return dfF.groupby(['Anios'])['Total'].agg([np.average]) "
   ]
  },
  {
   "cell_type": "code",
   "execution_count": null,
   "metadata": {
    "id": "ZuuozbHRAz5P"
   },
   "outputs": [],
   "source": []
  },
  {
   "cell_type": "markdown",
   "metadata": {
    "id": "-56QKgz_esXh"
   },
   "source": [
    "##Llamada a Funciones y Graficar"
   ]
  },
  {
   "cell_type": "code",
   "execution_count": 39,
   "metadata": {
    "id": "Z9zJcT5prlNM"
   },
   "outputs": [],
   "source": [
    "def graficarH(data):\n",
    "  data.plot(kind=\"bar\", figsize=(16,4))"
   ]
  },
  {
   "cell_type": "code",
   "execution_count": 40,
   "metadata": {
    "id": "fS-bOt2kLGrX"
   },
   "outputs": [],
   "source": [
    "df_sub=procesado_sub_pleno_noPleno_empleo(rango1,rango2,\"Subempleo\")\n",
    "df_pleno=procesado_sub_pleno_noPleno_empleo(rango1,rango2,\"Empleo Adecuado/Pleno\")\n",
    "df_no_pleno=procesado_sub_pleno_noPleno_empleo(rango1,rango2,\"Otro Empleo no pleno\")"
   ]
  },
  {
   "cell_type": "code",
   "execution_count": 41,
   "metadata": {
    "colab": {
     "base_uri": "https://localhost:8080/",
     "height": 527
    },
    "id": "0L7kXGukLIIX",
    "outputId": "0e154b36-d931-4a7b-cc1e-e1042dccf397"
   },
   "outputs": [
    {
     "data": {
      "text/html": [
       "<div>\n",
       "<style scoped>\n",
       "    .dataframe tbody tr th:only-of-type {\n",
       "        vertical-align: middle;\n",
       "    }\n",
       "\n",
       "    .dataframe tbody tr th {\n",
       "        vertical-align: top;\n",
       "    }\n",
       "\n",
       "    .dataframe thead th {\n",
       "        text-align: right;\n",
       "    }\n",
       "</style>\n",
       "<table border=\"1\" class=\"dataframe\">\n",
       "  <thead>\n",
       "    <tr style=\"text-align: right;\">\n",
       "      <th></th>\n",
       "      <th>subempleo</th>\n",
       "      <th>pleno</th>\n",
       "      <th>no_pleno</th>\n",
       "    </tr>\n",
       "    <tr>\n",
       "      <th>Anios</th>\n",
       "      <th></th>\n",
       "      <th></th>\n",
       "      <th></th>\n",
       "    </tr>\n",
       "  </thead>\n",
       "  <tbody>\n",
       "    <tr>\n",
       "      <th>2016</th>\n",
       "      <td>1437778.75</td>\n",
       "      <td>3188784.00</td>\n",
       "      <td>2070205.75</td>\n",
       "    </tr>\n",
       "    <tr>\n",
       "      <th>2017</th>\n",
       "      <td>1669343.50</td>\n",
       "      <td>3275341.00</td>\n",
       "      <td>1986290.00</td>\n",
       "    </tr>\n",
       "    <tr>\n",
       "      <th>2018</th>\n",
       "      <td>1493030.00</td>\n",
       "      <td>3249694.50</td>\n",
       "      <td>2162808.00</td>\n",
       "    </tr>\n",
       "    <tr>\n",
       "      <th>2019</th>\n",
       "      <td>1570431.25</td>\n",
       "      <td>3148216.75</td>\n",
       "      <td>2207743.50</td>\n",
       "    </tr>\n",
       "    <tr>\n",
       "      <th>2020</th>\n",
       "      <td>1978116.75</td>\n",
       "      <td>2395943.75</td>\n",
       "      <td>2253043.75</td>\n",
       "    </tr>\n",
       "  </tbody>\n",
       "</table>\n",
       "</div>"
      ],
      "text/plain": [
       "        subempleo       pleno    no_pleno\n",
       "Anios                                    \n",
       "2016   1437778.75  3188784.00  2070205.75\n",
       "2017   1669343.50  3275341.00  1986290.00\n",
       "2018   1493030.00  3249694.50  2162808.00\n",
       "2019   1570431.25  3148216.75  2207743.50\n",
       "2020   1978116.75  2395943.75  2253043.75"
      ]
     },
     "execution_count": 41,
     "metadata": {},
     "output_type": "execute_result"
    },
    {
     "data": {
      "image/png": "[encoded data removed]",
      "text/plain": [
       "<Figure size 1152x288 with 1 Axes>"
      ]
     },
     "metadata": {
      "needs_background": "light"
     },
     "output_type": "display_data"
    }
   ],
   "source": [
    "df_histo=df_sub\n",
    "df_histo['pleno']=df_pleno.iloc[:,-1]\n",
    "df_histo['no_pleno']=df_no_pleno.iloc[:,-1]\n",
    "df_histo.rename(columns={'average':'subempleo'},inplace=True)\n",
    "graficarH(df_histo)\n",
    "df_histo.head()"
   ]
  },
  {
   "cell_type": "markdown",
   "metadata": {
    "id": "bI-HHqRu9foY"
   },
   "source": [
    "##Concluciones\n",
    "*   Los estudiantes refuerzan conocimientos y práctica en el procesamiento y análisis de datos \n",
    "\n",
    "*   En cuanto a las cifras de empleo y desempleo podemos concluir que a lo largo de los años el nivel ha ido en aumento con una considerable diferencia entre las cifras analizadas.\n",
    "\n",
    "*   Del mismo caso en el análisis realizado la sectorización del empleo, subempleo, empleo pleno y empleo no pleno podemos evidenciar que existe una diferencia poco perceptible en función a los años que se ingresa como parametro\n",
    "\n",
    "\n",
    "##Recomendación\n",
    "Para cargar los datos proporcionados por el docente  es necesario realizar un paso adicional el cual consiste el transformar el .csv a formato excel y posterior mente transformarlo a formato .csv nuevamente, hecho estos pasos no tendremos problemas al momento de cargar los datos de entrada\n",
    "\n"
   ]
  }
 ],
 "metadata": {
  "colab": {
   "collapsed_sections": [],
   "name": "Prueba1.ipynb",
   "provenance": []
  },
  "kernelspec": {
   "display_name": "Python 3",
   "language": "python",
   "name": "python3"
  },
  "language_info": {
   "codemirror_mode": {
    "name": "ipython",
    "version": 3
   },
   "file_extension": ".py",
   "mimetype": "text/x-python",
   "name": "python",
   "nbconvert_exporter": "python",
   "pygments_lexer": "ipython3",
   "version": "3.8.5"
  }
 },
 "nbformat": 4,
 "nbformat_minor": 1
}
